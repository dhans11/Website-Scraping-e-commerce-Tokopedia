{
 "cells": [
  {
   "cell_type": "markdown",
   "metadata": {},
   "source": [
    "# __<center>MILESTONE 2</center>__\n",
    "\n",
    "# Objective\n",
    "* Mengembangkan sistem web scraping otomatis untuk Tokopedia, dengan tujuan mengekstraksi data komprehensif tentang daftar produk, harga, ulasan, dan informasi penjual. Tujuannya termasuk memastikan keakuratan data, menerapkan penanganan kesalahan yang kuat, dan menyediakan analisis yang mendalam untuk mendukung kecerdasan bisnis dan riset pasar.\n",
    "---\n"
   ]
  },
  {
   "cell_type": "markdown",
   "metadata": {},
   "source": [
    "# A. Web Scraping"
   ]
  },
  {
   "cell_type": "code",
   "execution_count": 2,
   "metadata": {},
   "outputs": [],
   "source": [
    "# import module \n",
    "from bs4 import BeautifulSoup\n",
    "from selenium import webdriver\n",
    "import pandas as pd\n",
    "import time\n",
    "# Initialize WebDriver\n",
    "driver = webdriver.Chrome()\n",
    "\n",
    "# Define URL\n",
    "url = \"https://www.tokopedia.com/search?navsource=&page=1&q=seblak&srp_component_id=02.01.00.00&srp_page_id=&srp_page_title=&st=\"\n",
    "# Open HTML\n",
    "driver.get(url)\n",
    "# Get HTML source\n",
    "html = driver.page_source"
   ]
  },
  {
   "cell_type": "markdown",
   "metadata": {},
   "source": [
    "**Mengambil kolom `Nama Produk`, `Harga Produk`, `Penjual`, `Kota Toko`, `Banyaknya Terjual`, dan `Rating Produk`**"
   ]
  },
  {
   "cell_type": "code",
   "execution_count": 3,
   "metadata": {},
   "outputs": [
    {
     "name": "stdout",
     "output_type": "stream",
     "text": [
      "Produk: ['Kerupuk seblak kering 500 gram extra pedas /seblak kering kencur pedas', 'Seblak Instan Bang Satria Kemasan PremiumDeskripsi  WAJIB VIDEO UNBOXING, TIDAK TERIMA KOMPLAIN APAPUN  PERHATIAN !!!  TANPA DISERETAKAN VIDEO UNBOXING. REKAM DENGAN  JELAS!  \\n\\nHallo Temen-temen  Yang Ditunggu-tunggu akhirnya hadir juga  kini tersedia Seb', 'Kerupuk Seblak Rafael Pedas / Seblak Mawar Pedes - Duo Bocil Snack', 'SEBLAK INSTAN MOMMY - Rica-Rica', 'krupuk lidah campuran seblak dan bakso kuah', 'Seblak Instan Pedas Home Made', 'Seblak pedas kerupuk pedas kiloan 1 kg', 'seblak instant sajodo snak', 'Seblak Rafael, Seblak Coet Instan Halal', 'SEBLAK JELETET MURNI (AJAHH)', 'cemilan SEBLAK KARI PEDAS 65gr', 'cuanki tahu kering, batagor kering, isi 25 topping baso aci dan seblak', 'Kylafood Seblak Cup isi 2 pcs', 'Cuanki tahu bulat kering 50 pcs toping seblak baso aci', 'siomay kering besar murah 50 pcs toping seblak baso aci cuanki', 'Kerupuk Joged Bawang Bibir Warna Warni mentah 500gr Seblak', 'kerupuk bubur/ seblak / gado- gado/ ketoprak 500gr', 'SEBLAK INSTAN SAJODO SNACK', 'CUANKI TAHU TOPING BASO ACI, SEBLAK, MIE, ENAK DAN GURIH', '3 BASO ACI FREE SEBLAK SAJODO SNACK & FOOD', 'cuanki tahu gepeng isi 100 pcs toping seblak bsso aci', 'Paket Hemat Ciomy Cuanki Cheese isi 3', 'siomay mini kering 250 gram toping seblak baso aci', 'Kylafood Mix Fav Selebgram Seblak Original & Batagor kuah', 'SEBLAK INSTAN BANDUNG | HALAL', 'Seblak Instan Komplit Bumbu Basah', 'Seblak Viral Mang Rafael', 'Kerupuk bawang prima / Kerupuk warna warni / Kerupuk seblak - 1Kg', 'Seblak instant jumbo super pedas', 'kerupuk seblak kering enak gurih', 'cuanki tahu panjang isi 150 pcs | toping seblak baso aci', 'cuanki tahu panjang stik isi 50 toping seblak baso aci', 'Seblak Pedas Kicimpring Iyagasih', 'SEBLAK KICIMPRING MANG MUSS - LEVEL 3', 'GROSIR Seblak Instan Seblak Suki Seblak Kerupuk Seblak Termurah Enak - Seblak Komplit', 'Kerupuk Seblak Mentah 1kg - Krupuk Oren Matahari Pagi MP - Kemplang', 'cuanki/cuankie lidah 100 pcs termurah khas Garut baso Aci/seblak boci', '[500 gr]KERUPUK SEBLAK PEDAS', 'Seblak Bandung Jawara Pedas', 'Seblak Uleg || Viral', 'Ciomy Cuanki Rasa Ayam Pedas', 'BASO ACI TULANG RANGU 100 GR', 'Paket Hemat Ciomy Cuanki Cheese isi 6 - Reguler Pack', 'Sriping Keripik Pisang Madu', 'Bundle 3pcs - Baso Aci Tulang Rangu Basranger 200gr Makanan Instan', 'KRUPUK / KERUPUK MENTAH / KERUPUK SEBLAK MENTAH 1kg IKAN MERAH', 'kerupuk seblak Pedas 75 gram gurih', 'keripik beling / kaca 1 kg. bumbu seblak daun jeruk enak, gurih, pedas', 'PAKET MIX HEMAT 50 BASO ACI/BOCI/SEBLAK/CUANKI', 'Seblak geprek hedon', 'Peyek Bu Nanik', 'Peyek Bayam Tridara Snack', 'Kerupuk Keriting Palembang', 'Kerupuk Kemplang Palembang Cap Satu Ikan', 'Kerupuk Ikan Tanggiri', 'SEBLAK INSTAN | BASO ACI | CUANKIE KUAH INSTAN', 'Kylafood Paket Seblak Cup isi 4 pcs', 'seblak kerupuk jengkol sebring kerupuk jengkol pedes daun jeruk500gram', 'Sukro pilus Cikur Sari rasa 500 g - toping seblak - baso aci', 'Seblak instan yoi enak dan kenyang', 'Kerupuk seblak Mawar / Seblak Rafael / Seblak viral 500 gr - 250 gr', 'Kerupuk Seblak Rafael Pedas 40 Gram Camilan Krauks', 'Krupuk seblak pedass', 'Kylafood Batagor Kuah Play', 'Pasar Keripik Cimol Seblak Pedas size Kecil 130g', 'Kerupuk seblak pedas kemasan 250 gram', 'Kerupuk Pedas Sebring Seblak Keriting Extra Pedas Kencur isi 150 Gram', 'cuanki lidah 150 pcs toping seblak baso aci', 'cuankie/cuanki lidah isi 150 pcs khas Garut baso Aci /boci seblak', 'cuanki lidah khas garut 50 pcs enak untuk baso aci dan seblak ( BRY )', 'Cuanki tahu atau batagor kering kiloan murah isi 150 seblak baso aci', 'Gurilem Pedas', 'Basreng Sangarrr', 'Makaroni Ceu Wewei 1kg', 'Basreng Pinggsnack', 'seblak instan masabi', 'SEBLAK KERING PEDAS DAUN JERUK', '100gr Kerupuk Bawang Tersanjung Bintang Bunga Krupuk Mentah seblak', 'Kylafood Mix Pentol Kuah dan Seblak Original', 'NAAGIH! PAKET MIX 12 pack : 4 Seblak 4 Cuanki 4 Boci Instant RESELLER!', 'Kerupuk seblak kering 500 gram extra pedas /seblak kering kencur pedas', 'Seblak Instan Bang Satria Kemasan PremiumDeskripsi  WAJIB VIDEO UNBOXING, TIDAK TERIMA KOMPLAIN APAPUN  PERHATIAN !!!  TANPA DISERETAKAN VIDEO UNBOXING. REKAM DENGAN  JELAS!  \\n\\nHallo Temen-temen  Yang Ditunggu-tunggu akhirnya hadir juga  kini tersedia Seb', 'Kerupuk Seblak Rafael Pedas / Seblak Mawar Pedes - Duo Bocil Snack', 'SEBLAK INSTAN MOMMY - Rica-Rica', 'krupuk lidah campuran seblak dan bakso kuah', 'Kerupuk Seblak Kencur Pedas 50gr ANABA', 'KRUPUK / KERUPUK MENTAH / KERUPUK SEBLAK MENTAH 200gr MAWAR WARNA', 'seblak instan jawara pedas sehot bandung', 'KERUPUK PEDAS SEBLAK 250 GR', 'BATAGOR MINI Untuk Seblak Krupuk Batagor Kering Mini', 'cemilan SEBLAK KARI PEDAS 65gr', 'cuanki tahu kering, batagor kering, isi 25 topping baso aci dan seblak', 'Kylafood Seblak Cup isi 2 pcs', 'Cuanki tahu bulat kering 50 pcs toping seblak baso aci', 'siomay kering besar murah 50 pcs toping seblak baso aci cuanki', 'KERUPUK LOTEK / KERUPUK SEBLAK / KERUPUK ORANYE (MENTAH) per 250gr', 'Batagor Tahu Kering Mini 50pcs Topping Cuanki, Seblak, Baso, Dll.', 'KRUPUK / KERUPUK MENTAH / KERUPUK SEBLAK MENTAH 1kg RAMBAK TIPIS', '1KG KERUPUK SEBLAK KENCUR PEDAS 1KG KILOAN MURAH', 'Seblak Instant Basranger Extra Pedas Daun Jeruk (200gr)', 'cuanki tahu gepeng isi 100 pcs toping seblak bsso aci', 'Paket Hemat Ciomy Cuanki Cheese isi 3', 'siomay mini kering 250 gram toping seblak baso aci', 'Kylafood Mix Fav Selebgram Seblak Original & Batagor kuah', 'SEBLAK INSTAN BANDUNG | HALAL', 'TAHU STICK / TAHU KERITING ISI 50 PCS TOPPING BASO ACI / SEBLAK', 'Kerupuk Seblak Pedas 100 Gram, Kerupuk Seblak Daun Jeruk Gurih Renyah', 'Cuanki lidah Toping baso aci seblak isi 5 pcs', '1KG Kerupuk Seblak Kering Rafael BUNDLING 500GR ORI + 500GR PEDAS', 'SEBLAK INSTAN KARASA', 'cuanki tahu panjang stik isi 50 toping seblak baso aci', 'Seblak Pedas Kicimpring Iyagasih', 'siomay mini kering 1kg / gurilem toping seblak baso aci cuanki', 'SEBLAK KICIMPRING MANG MUSS - LEVEL 3', 'GROSIR Seblak Instan Seblak Suki Seblak Kerupuk Seblak Termurah Enak - Seblak Komplit', 'cuanki tahu kering seblak atau batagor kering isi 150 pcs', 'Kerupuk Seblak Putih Odjolali', 'Kerupuk Mawar Mentah/ Kerupuk Seblak Rafael 1 Kilo', 'KERUPUK SEBLAK PEDAS 100GR | SNACKMAMA', 'SEBLAK CUANKI KUAH CUP INSTAN PUSPA ( PUSAKA PARAHYANGAN ) SIAP SAJI', 'Ciomy Cuanki Rasa Ayam Pedas', 'BASO ACI TULANG RANGU 100 GR', 'Paket Hemat Ciomy Cuanki Cheese isi 6 - Reguler Pack', 'Sriping Keripik Pisang Madu', 'Bundle 3pcs - Baso Aci Tulang Rangu Basranger 200gr Makanan Instan', 'Cuanki Lidah Isi 100 Pcs/  Cuanki Gurih Enak/ Cuanki Toping Baso Aci/ Topping Seblak', 'Topping seblak topping baso aci kerupuk mentah cuanki lidah isi 50pcs ', 'SEBLAK TATANGGA BY OIFYOO food makanan', 'BASRENG & SEBLAK KERING 366 PEDAS MANTAP', 'bok akrilik seblak prasmanan', 'Peyek Bu Nanik', 'Peyek Bayam Tridara Snack', 'Kerupuk Keriting Palembang', 'Kerupuk Kemplang Palembang Cap Satu Ikan', 'Kerupuk Ikan Tanggiri', 'Kylafood paket 2 seblak cup + 3 basreng original', 'Sukro pilus Cikur Sari rasa 1 renceng 10bks - toping seblak - baso aci', 'Kerupuk Gelung Mentah 200gr Rasa Ikan Bahan Seblak, Snack, dll.', 'Krupuk Stik Seblak /pedas 1kg', 'kerupuk seblak pedas', 'Kerupuk seblak Mawar / Seblak Rafael / Seblak viral 500 gr - 250 gr', 'KERUPUK SEBLAK MANG RAFAEL / KERUPUK SEBLAK MAWAR', 'Kerupuk Seblak Rafael Pedas 40 Gram Camilan Krauks', 'Krupuk seblak pedass', 'Pasar Keripik Cimol Seblak Pedas size Kecil 130g', 'SUKRO CIKUR RENYAH NGEPROS isi 1KG Pelengkap Baso Aci Cuanki Seblak', 'batagor mini kering / cuanki / siomay / seblak / bakso aci', 'kerupuk seblak Rafael 100g', 'Kerupuk Seblak Ari Putra', 'Seblak Bapper', 'Kerupuk Seblak', 'Cuanki tahu geprek kering isi 100 toping seblak baso aci', 'Gurilem Sangarrr', 'Cuanki lidah murah kiloan isi 150 toping seblak baso aci', 'Basreng Sangarrr', 'Kerupuk krupuk Orange oren Seblak Ikan Udang Matahari Pagi MP mentah 250gr 250 gr gram', 'SEBLAK INSTAN special bumbu kencur rasa lezat', 'Sebring ( Seblak Kering ) kemasan pouch 200gram Cemilan ceu elah', 'Paket Hemat 10 bks Seblak Aceng ', 'Batagor Lidah Kering Cuanki 1 Bungkus Bakso Aci Baso Seblak', 'Kerupuk seblak kering 500 gram extra pedas /seblak kering kencur pedas', 'Seblak Instan Bang Satria Kemasan PremiumDeskripsi  WAJIB VIDEO UNBOXING, TIDAK TERIMA KOMPLAIN APAPUN  PERHATIAN !!!  TANPA DISERETAKAN VIDEO UNBOXING. REKAM DENGAN  JELAS!  \\n\\nHallo Temen-temen  Yang Ditunggu-tunggu akhirnya hadir juga  kini tersedia Seb', 'Kerupuk Seblak Rafael Pedas / Seblak Mawar Pedes - Duo Bocil Snack', 'SEBLAK INSTAN MOMMY - Rica-Rica', 'krupuk lidah campuran seblak dan bakso kuah', 'KERUPUK BAWANG ATAU SEBLAK PEDAS', 'Kerupuk seblak bantet pedas 75 gr', 'kerupuk mawar putih/ kerupuk seblak rafael', '150 Pcs CUANKI SIOMAY Kering Topping Pelengkap Baso Aci, Seblak', 'cuanki CIPET MINI isi 25pcs toping Baso aci cuanki seblak by GAIA (bis', 'cemilan SEBLAK KARI PEDAS 65gr', 'cuanki tahu kering, batagor kering, isi 25 topping baso aci dan seblak', 'Kylafood Seblak Cup isi 2 pcs', 'Cuanki tahu bulat kering 50 pcs toping seblak baso aci', 'siomay kering besar murah 50 pcs toping seblak baso aci cuanki', 'Seblak Mercon Komplit Khas Tasik 150gr', 'Cemilan Kerupuk Seblak 47 gram', 'Kerupuk Seblak Kering Daun Jeruk', 'Siomay Segi Tiga Topping Seblak dan Baso aci Murah', 'Seblak Nyemex MIE Seblak Instant Bandung', 'cuanki tahu gepeng isi 100 pcs toping seblak bsso aci', 'Paket Hemat Ciomy Cuanki Cheese isi 3', 'siomay mini kering 250 gram toping seblak baso aci', 'Kylafood Mix Fav Selebgram Seblak Original & Batagor kuah', 'SEBLAK INSTAN BANDUNG | HALAL', 'Kylafood Seblak Rempah Autentik Isi (10Pcs) [Populer]', 'PCV GEMBLONG SEBLAK 1Kg Ketempling Pedas  Kecimpring Pedas Comring', 'Krupuk Seblak Mawar Rafael ', 'Seblak Baso Aci Porsi Besar (seblak soaci)', '💎 Kerupuk Seblak Mawar Pedas Asin 1 Kg', 'cuanki tahu panjang stik isi 50 toping seblak baso aci', 'Seblak Pedas Kicimpring Iyagasih', 'siomay mini kering 1kg / gurilem toping seblak baso aci cuanki', 'SEBLAK KICIMPRING MANG MUSS - LEVEL 3', 'GROSIR Seblak Instan Seblak Suki Seblak Kerupuk Seblak Termurah Enak - Seblak Komplit', '(250 GR) KERUPUK TEMPE MENTAH CAP JEMPOL RENYAH ENAK VIRAL SEBLAK', 'KRUPUK / KERUPUK MENTAH / KERUPUK SEBLAK RANTE WARNA 5KG', 'Krupuk Mawar/Seblak Rafael', 'Doyan_ngemil-kerupuk bawang kerupuk jablay kerupuk seblak bantat 100gr', 'SIOMAY 75pcs Cuanki Toping Baso Aci Cuanki Seblak', 'Ciomy Cuanki Rasa Ayam Pedas', 'BASO ACI TULANG RANGU 100 GR', 'Paket Hemat Ciomy Cuanki Cheese isi 6 - Reguler Pack', 'Sriping Keripik Pisang Madu', 'Bundle 3pcs - Baso Aci Tulang Rangu Basranger 200gr Makanan Instan', 'MURAH Krupuk Seblak Mentah Aneka Varian Kemasan 250 Gram', 'L☎37 SEBLAK RAFAEL / SEBLAK KERUPUK COCOL Z☎3G', 'Kylafood Paket 2 Seblak Original 3 Batagor Kuah', 'Tempat Toping seblak prasmanan 3ruang', 'kerupuk seblak Rafael | kerupuk mawar | uyel mini putih 500gr', 'Peyek Bu Nanik', 'Peyek Bayam Tridara Snack', 'Kerupuk Keriting Palembang', 'Kerupuk Kemplang Palembang Cap Satu Ikan', 'Kerupuk Ikan Tanggiri', 'KRUPUK / KERUPUK MENTAH / KERUPUK SEBLAK ANGKA 8 5KG', 'kerupuk seblak kencur 250 gr', '(MIN10 PAKET RESELLER) Seblak BERKAH Cemilan Instant Bandung Batagor', 'kerupuk seblak tangga gurih pedas daun jeruk 200 gram', 'KERUPUK SEBLAK BANTET DAUN JERUK PEDAS', 'Kerupuk seblak Mawar / Seblak Rafael / Seblak viral 500 gr - 250 gr', 'KERUPUK SEBLAK MANG RAFAEL / KERUPUK SEBLAK MAWAR', 'Kerupuk Seblak Rafael Pedas 40 Gram Camilan Krauks', 'Krupuk seblak pedass', 'Kylafood Batagor Kuah Play', 'Keripik SEBLAK BANTAT CIKRUH 1 PACK ISI 12 PCS', 'KERUPUK JABLAY / KERUPUK JABLAI / KERUPUK SETAN / KERUPUK SEBLAK', 'Cuanki Lidah JUMBO Isi 10pcs Toping Baso Aci Seblak', 'seblak instant', 'Kerupuk Bawang Mentah / Kerupuk Seblak 250gr', 'Gurilem Pedas', 'Basreng Sangarrr', 'Makaroni Ceu Wewei 1kg', 'Basreng Pinggsnack', 'Baso Aci Mie Nyemek Teh Shanty Original Lengkap Dengan Gurilem 200g', 'Kerupuk Seblak Kencur 100 gr', 'MIX 4 BASO ACI, 4 SEBLAK, 4 CUANKI INSTAN ABAH ACENG Terlaris.', 'krupuk seblak pedas', '(0_0) PAKET KHUSUS RESELLER SEBLAK SAJODO SNACK (\"_\")', 'Geli Food - Seblak Ceker Tanpa Tulang ( Dakbal Bumbu Seblak Cobek )', 'Kerupuk seblak kering 500 gram extra pedas /seblak kering kencur pedas', 'Seblak Instan Bang Satria Kemasan PremiumDeskripsi  WAJIB VIDEO UNBOXING, TIDAK TERIMA KOMPLAIN APAPUN  PERHATIAN !!!  TANPA DISERETAKAN VIDEO UNBOXING. REKAM DENGAN  JELAS!  \\n\\nHallo Temen-temen  Yang Ditunggu-tunggu akhirnya hadir juga  kini tersedia Seb', 'SEBLAK INSTAN MOMMY', 'Kerupuk Seblak Rafael Pedas / Seblak Mawar Pedes - Duo Bocil Snack', 'krupuk lidah campuran seblak dan bakso kuah', 'krupuk seblak bandung seblak kering murah enak', 'Sambal seblak instan/bumbu seblak basah', 'KERUPUK SEBLAK MAKNYIK', 'kripik seblak kering pedas', 'SEBLAK instan hott jeletott', 'cemilan SEBLAK KARI PEDAS 65gr', 'cuanki tahu kering, batagor kering, isi 25 topping baso aci dan seblak', 'Kylafood Seblak Cup isi 2 pcs', 'Cuanki tahu bulat kering 50 pcs toping seblak baso aci', 'siomay kering besar murah 50 pcs toping seblak baso aci cuanki', '50pcs Tahu KERITING PREMIUM isi untuk Toping Baso Aci Seblak Indomie', 'Cuanki tahu atau batagor kering kiloan murah isi 150 seblak baso aci', 'Kerupuk Bawang Prima / Krupuk Seblak 500gram', 'Kerupuk seblak coin pedas/seblak pedas/keripik kekinian/serba 5000', 'krupuk seblak kencur/daun jeruk pedas', 'cuanki tahu gepeng isi 100 pcs toping seblak bsso aci', 'Paket Hemat Ciomy Cuanki Cheese isi 3', 'siomay mini kering 250 gram toping seblak baso aci', 'Kylafood Mix Fav Selebgram Seblak Original & Batagor kuah', 'SEBLAK INSTAN BANDUNG | HALAL', 'sukro cikur kiloan sari rasa toping seblak boci', 'Kerupuk bunga mawar putih viral seblak aa rafael 1 bal/ball 5 kg', 'seblak instan', 'Yummi! (cod)siomay mini kering | topping boci, seblak cuanki | kemasan', 'LIDAH 75pcs cuanki Toping Baso Aci, Seblak khas Garut', 'cuanki tahu panjang stik isi 50 toping seblak baso aci', 'Seblak Pedas Kicimpring Iyagasih', 'siomay mini kering 1kg / gurilem toping seblak baso aci cuanki', 'SEBLAK KICIMPRING MANG MUSS - LEVEL 3', 'GROSIR Seblak Instan Seblak Suki Seblak Kerupuk Seblak Termurah Enak - Seblak Komplit', '150 seblak bulat bantet pedas', 'Kerupuk Warna Warni | Kerupuk Seblak 250 gr', 'kerupuk seblak', 'Kerupuk merah nasi uduk seblak bubur gado gado', 'Seblak kuah dan kering instan 200gr', 'Ciomy Cuanki Rasa Ayam Pedas', 'BASO ACI TULANG RANGU 100 GR', 'Paket Hemat Ciomy Cuanki Cheese isi 6 - Reguler Pack', 'Sriping Keripik Pisang Madu', 'Bundle 3pcs - Baso Aci Tulang Rangu Basranger 200gr Makanan Instan', 'KERUPUK SEBLAK MENTAH RANTAI/TARAJE/TANGGA/JARING 250g,500 g', 'Makaroni kilo cikruh seblak pedas cemilan makroni snack bantet', 'paket jualan baso aci mix seblak 11pcs', 'Kerupuk Bawang Seblak 4,5 kg', 'KERUPUK JABLAY KERIPIK JABLAY PEDAS KERUPUK SEBLAK KENCUR CEMILAN']\n",
      "Harga: ['Rp24.700', 'Rp21.250', 'Rp16.000', 'Rp13.900', 'Rp20.000', 'Rp3.500', 'Rp35.000', 'Rp20.000', 'Rp25.000', 'Rp26.500', 'Rp4.500', 'Rp6.999', 'Rp25.576', 'Rp17.999', 'Rp16.555', 'Rp10.850', 'Rp18.000', 'Rp18.500', 'Rp22.500', 'Rp63.000', 'Rp39.999', 'Rp70.000', 'Rp7.999', 'Rp47.840', 'Rp16.000', 'Rp9.859', 'Rp10.000', 'Rp23.000', 'Rp6.700', 'Rp5.000', 'Rp34.999', 'Rp16.000', 'Rp15.000', 'Rp10.999', 'Rp14.500', 'Rp19.000', 'Rp32.999', 'Rp22.500', 'Rp28.000', 'Rp8.000', 'Rp25.000', 'Rp21.700', 'Rp140.000', 'Rp25.000', 'Rp67.900', 'Rp21.750', 'Rp5.000', 'Rp44.999', 'Rp87.000', 'Rp16.000', 'Rp24.500', 'Rp16.500', 'Rp28.000', 'Rp19.000', 'Rp17.000', 'Rp5.500', 'Rp51.152', 'Rp26.500', 'Rp18.000', 'Rp7.500', 'Rp18.500', 'Rp7.905', 'Rp12.000', 'Rp27.075', 'Rp12.500', 'Rp15.000', 'Rp30.000', 'Rp35.999', 'Rp46.999', 'Rp15.999', 'Rp32.900', 'Rp19.500', 'Rp18.900', 'Rp65.000', 'Rp16.700', 'Rp8.000', 'Rp4.500', 'Rp4.500', 'Rp46.000', 'Rp66.666', 'Rp24.700', 'Rp21.250', 'Rp16.000', 'Rp13.900', 'Rp20.000', 'Rp2.881', 'Rp5.750', 'Rp13.500', 'Rp18.000', 'Rp14.900', 'Rp4.500', 'Rp6.999', 'Rp25.576', 'Rp17.999', 'Rp16.555', 'Rp7.941', 'Rp6.200', 'Rp21.750', 'Rp38.880', 'Rp19.700', 'Rp39.999', 'Rp70.000', 'Rp7.999', 'Rp47.840', 'Rp16.000', 'Rp18.000', 'Rp22.688', 'Rp3.490', 'Rp70.000', 'Rp5.999', 'Rp16.000', 'Rp15.000', 'Rp25.500', 'Rp10.999', 'Rp14.500', 'Rp34.999', 'Rp8.500', 'Rp22.500', 'Rp8.900', 'Rp12.500', 'Rp25.000', 'Rp21.700', 'Rp140.000', 'Rp25.000', 'Rp67.900', 'Rp27.500', 'Rp25.200', 'Rp15.040', 'Rp10.999', 'Rp3.000.000', 'Rp24.500', 'Rp16.500', 'Rp28.000', 'Rp19.000', 'Rp17.000', 'Rp63.940', 'Rp6.000', 'Rp4.500', 'Rp12.000', 'Rp6.000', 'Rp18.500', 'Rp15.300', 'Rp7.905', 'Rp12.000', 'Rp12.500', 'Rp31.359', 'Rp16.000', 'Rp6.000', 'Rp4.025', 'Rp16.000', 'Rp8.000', 'Rp37.999', 'Rp13.000', 'Rp33.999', 'Rp19.900', 'Rp5.600', 'Rp5.999', 'Rp8.000', 'Rp55.000', 'Rp11.000', 'Rp24.700', 'Rp21.250', 'Rp16.000', 'Rp13.900', 'Rp20.000', 'Rp9.000', 'Rp4.500', 'Rp7.300', 'Rp34.500', 'Rp7.519', 'Rp4.500', 'Rp6.999', 'Rp25.576', 'Rp17.999', 'Rp16.555', 'Rp9.500', 'Rp6.000', 'Rp5.000', 'Rp4.500', 'Rp16.999', 'Rp39.999', 'Rp70.000', 'Rp7.999', 'Rp47.840', 'Rp16.000', 'Rp135.000', 'Rp24.163', 'Rp85.000', 'Rp19.000', 'Rp47.000', 'Rp16.000', 'Rp15.000', 'Rp25.500', 'Rp10.999', 'Rp14.500', 'Rp8.500', 'Rp108.000', 'Rp8.800', 'Rp6.600', 'Rp19.739', 'Rp25.000', 'Rp21.700', 'Rp140.000', 'Rp25.000', 'Rp67.900', 'Rp5.700', 'Rp41.000', 'Rp111.795', 'Rp305.200', 'Rp17.500', 'Rp24.500', 'Rp16.500', 'Rp28.000', 'Rp19.000', 'Rp17.000', 'Rp108.000', 'Rp12.450', 'Rp14.000', 'Rp12.375', 'Rp5.000', 'Rp18.500', 'Rp15.300', 'Rp7.905', 'Rp12.000', 'Rp27.075', 'Rp11.000', 'Rp8.000', 'Rp5.459', 'Rp4.800', 'Rp7.000', 'Rp19.500', 'Rp18.900', 'Rp65.000', 'Rp16.700', 'Rp22.900', 'Rp7.000', 'Rp77.000', 'Rp20.000', 'Rp29.000', 'Rp25.000', 'Rp24.700', 'Rp21.250', 'Rp13.900', 'Rp16.000', 'Rp20.000', 'Rp13.000', 'Rp1.500', 'Rp18.000', 'Rp5.000', 'Rp5.000', 'Rp4.500', 'Rp6.999', 'Rp25.576', 'Rp17.999', 'Rp16.555', 'Rp18.200', 'Rp51.000', 'Rp17.500', 'Rp5.000', 'Rp15.000', 'Rp39.999', 'Rp70.000', 'Rp7.999', 'Rp47.840', 'Rp16.000', 'Rp34.000', 'Rp177.000', 'Rp15.500', 'Rp15.000', 'Rp19.739', 'Rp16.000', 'Rp15.000', 'Rp25.500', 'Rp10.999', 'Rp14.500', 'Rp7.000', 'Rp6.000', 'Rp8.000', 'Rp25.000', 'Rp15.000', 'Rp25.000', 'Rp21.700', 'Rp140.000', 'Rp25.000', 'Rp67.900', 'Rp100.500', 'Rp6.000', 'Rp42.999', 'Rp79.900', 'Rp16.500']\n",
      "Penjual: ['oyun kriukzz', 'Pusat Pajamas Tasik', 'DUO BOCIL SNACK', 'Rav Jaya Display', 'boisfrozen', 'the Dhecip', 'RIKI STORE 97', 'hikmah berkah jaya', 'Brother Meat Shop', 'Seblak Jeletet Murni', 'oke snack', 'Culametan Food', 'kylafood', 'CUANKI CULAMETAN', 'CuankiCulametan', 'insanprimastore', 'Taufik Bumbu Giling', 'Sajodo Snack & Food', 'global cookware1', 'Sajodo Snack & Food', 'CUANKI CULAMETAN', 'mBrebesmili', 'CUANKI CULAMETAN', 'kylafood', 'CUANKI BAKSO ACI DPS', 'Eatbam store', 'HANHEN Langgeng Jaya', 'Roda Minang', 'Grosir Putra Bdg', 'RIKI STORE 97', 'CUANKI CULAMETAN', 'CuankiCulametan', 'Gerai Singawada', 'Seblak Mang Muss', 'Ellathifstore', 'Cuanki_Bandung', 'ArfaOnlineShop', 'CamilanJati', 'AkagamiShanks40', 'RN FROZEN FOOD', 'mBrebesmili', 'Rak Sebelah', 'mBrebesmili', 'Pisang Goreng Madu Bu Nanik', 'Rak Sebelah', 'SuperSnacksShop', 'RIKI STORE 97', 'aghniya', 'ArfaOnlineShop', 'RGA Frozen', 'Pisang Goreng Madu Bu Nanik', 'Pisang Goreng Madu Bu Nanik', 'Pisang Goreng Madu Bu Nanik', 'Pisang Goreng Madu Bu Nanik', 'Pisang Goreng Madu Bu Nanik', 'Kairashop_id', 'kylafood', 'Tiga putri77', 'Distributor Cuanki dan Seblak', 'SeblakYoi', 'Bintang Snack & Camilan', 'Zaaru Store', 'R~snack', 'kylafood', 'Pasar Keripik Bandung', 'RIKI STORE 97', 'toko kue pundi mas', 'CUANKI CULAMETAN', 'ArfaOnlineShop', 'aghniya', 'CuankiCulametan', 'Bite and Munch', 'The Little Snacks', 'Makaroni Ceu Wewei', 'Gerai Snack Official Shop', 'baso aci masabi', 'BociKakang', 'Eagar Wangsa', 'kylafood', 'Ebay Store', 'oyun kriukzz', 'Pusat Pajamas Tasik', 'DUO BOCIL SNACK', 'Rav Jaya Display', 'boisfrozen', 'Siaga Lapak', 'SuperSnacksShop', 'cemilan Bandungstore', 'TOKO KUE MEISYA 2', 'afcbandung', 'oke snack', 'Culametan Food', 'kylafood', 'CUANKI CULAMETAN', 'CuankiCulametan', 'AYO BELANJA AYO MASAK - BY CERITA DAPUR BUNDA', 'Cuanki_Bandung', 'SuperSnacksShop', 'anekastorebyzee', 'Gerai Snack Official Shop', 'CUANKI CULAMETAN', 'mBrebesmili', 'CUANKI CULAMETAN', 'kylafood', 'CUANKI BAKSO ACI DPS', 'Pusat Cuankie & Cemilan Frozen', 'Nion.Nion_Official', 'Grosir Putra Bdg', 'Cemilan Kang Asep', 'aghniya', 'CuankiCulametan', 'Gerai Singawada', 'CuankiCulametan', 'Seblak Mang Muss', 'Ellathifstore', 'CUANKI CULAMETAN', 'Jacqkids', 'Kerupuk Anta Kuncir', 'snackmama_medan', 'Berkah Niaga Jaya', 'mBrebesmili', 'Rak Sebelah', 'mBrebesmili', 'Pisang Goreng Madu Bu Nanik', 'Rak Sebelah', 'H & Y Media', 'Like Foods', 'oifyoo_mozzarella', 'Warung Entong', 'neonbox bogor', 'Pisang Goreng Madu Bu Nanik', 'Pisang Goreng Madu Bu Nanik', 'Pisang Goreng Madu Bu Nanik', 'Pisang Goreng Madu Bu Nanik', 'Pisang Goreng Madu Bu Nanik', 'kylafood', 'Distributor Cuanki dan Seblak', 'Pusat Grosir Cuanki', 'Hosana Snack', 'camilan ojo lali', 'Bintang Snack & Camilan', 'BERKAT SNACK STORE', 'Zaaru Store', 'R~snack', 'Pasar Keripik Bandung', 'gaiagarut', 'fahirastores', 'ADDARSNACK', 'Gudang Riyadh', 'Jacqkids', 'SNACK JAKARTA 411', 'CuankiCulametan', 'The Little Snacks', 'CuankiCulametan', 'The Little Snacks', 'PONCREA-Shop', 'aghniya', 'cemilan ceu ellah', 'cemilan Bandungstore', 'Celikafood', 'oyun kriukzz', 'Pusat Pajamas Tasik', 'DUO BOCIL SNACK', 'Rav Jaya Display', 'boisfrozen', 'Eunike Store.id', 'RIKI STORE 97', 'juragan bawang merah', 'Endo Shop ID', 'gaiagarut', 'oke snack', 'Culametan Food', 'kylafood', 'CUANKI CULAMETAN', 'CuankiCulametan', 'Al Dien Mart', 'Waroeng El & Al', 'Mang Akoeng Official', 'Kerabat Official Store', 'Seblak Nyemex', 'CUANKI CULAMETAN', 'mBrebesmili', 'CUANKI CULAMETAN', 'kylafood', 'CUANKI BAKSO ACI DPS', 'TokoANITATJIGENOGERAIPONSEL99', 'Pabrik Cemilan Viral', 'Hosana Snack', 'Zalfa Accessories', 'FamauguFarasi', 'CuankiCulametan', 'Gerai Singawada', 'CuankiCulametan', 'Seblak Mang Muss', 'Ellathifstore', 'Rejeki Makmur Jaya.', 'SuperSnacksShop', 'Delicious Bali', 'Doyan_ngemil officially', 'gaiagarut', 'mBrebesmili', 'Rak Sebelah', 'mBrebesmili', 'Pisang Goreng Madu Bu Nanik', 'Rak Sebelah', 'Cilvie Mart', 'fajarfatihacollections', 'kylafood', 'Fajar Akrilik Display2', 'Toko bunda_', 'Pisang Goreng Madu Bu Nanik', 'Pisang Goreng Madu Bu Nanik', 'Pisang Goreng Madu Bu Nanik', 'Pisang Goreng Madu Bu Nanik', 'Pisang Goreng Madu Bu Nanik', 'SuperSnacksShop', 'benka snack', 'Hamood Store 7', 'cemilan ti lembur', 'berkahjaya@', 'Bintang Snack & Camilan', 'BERKAT SNACK STORE', 'Zaaru Store', 'R~snack', 'kylafood', 'RAJA SNACK FOOD', 'ngemildotcom', 'gaiagarut', 'wafilasnacku7', 'Hello Cell & Distro', 'Bite and Munch', 'The Little Snacks', 'Makaroni Ceu Wewei', 'Gerai Snack Official Shop', 'Gerai Snack Official Shop', 'eunmishop', 'frash_home.', 'makaronihaho', 'abdullahmarla', 'TechTropolis', 'oyun kriukzz', 'Pusat Pajamas Tasik', 'Rav Jaya Display', 'DUO BOCIL SNACK', 'boisfrozen', 'Galeri Jajanan Kita', 'Cemilan Malang', 'DILLADYSHOP', 'makaronihaho', 'dirga bintang', 'oke snack', 'Culametan Food', 'kylafood', 'CUANKI CULAMETAN', 'CuankiCulametan', 'lahawelah', 'greencan', 'Parengge Rengge bumbu & rempah', 'Snack kenan', 'yulsinshop', 'CUANKI CULAMETAN', 'mBrebesmili', 'CUANKI CULAMETAN', 'kylafood', 'CUANKI BAKSO ACI DPS', 'CuankiCulametan', 'PT MANDIRI BERKAH', 'HS by Hansu', 'GitaGeofani', 'gaiagarut', 'CuankiCulametan', 'Gerai Singawada', 'CuankiCulametan', 'Seblak Mang Muss', 'Ellathifstore', 'morototokoonline', 'SAHABAT ANUGRAH STORE', 'aldina A 3 d', 'Mama Lemon', 'Ogan bumbu kering', 'mBrebesmili', 'Rak Sebelah', 'mBrebesmili', 'Pisang Goreng Madu Bu Nanik', 'Rak Sebelah', 'BuahCandu', 'OzFood', 'TigoSadulur', 'AJM Kaos Online', 'Caviarwear']\n",
      "Kota Penjual: ['Jakarta Barat', 'Tasikmalaya', 'Depok', 'Kab. Tangerang', 'Kab. Majalengka', 'Tangerang Selatan', 'Kab. Bogor', 'Jakarta Barat', 'Depok', 'Jakarta Pusat', 'Jakarta Selatan', 'Kab. Garut', 'Bandung', 'Kab. Garut', 'Kab. Garut', 'Tangerang Selatan', 'Jakarta Selatan', 'Tasikmalaya', 'Jakarta Barat', 'Tasikmalaya', 'Kab. Garut', 'Depok', 'Kab. Garut', 'Bandung', 'Denpasar', 'Jakarta Timur', 'Tangerang', 'Jakarta Barat', 'Kab. Bandung', 'Kab. Bogor', 'Kab. Garut', 'Kab. Garut', 'Kab. Majalengka', 'Tasikmalaya', 'Surabaya', 'Kab. Bandung', 'Tangerang', 'Kab. Sidoarjo', 'Jakarta Pusat', 'Jakarta Selatan', 'Depok', 'Jakarta Pusat', 'Depok', 'Jakarta Barat', 'Jakarta Pusat', 'Kab. Bandung', 'Kab. Bogor', 'Tangerang Selatan', 'Tangerang', 'Depok', 'Jakarta Barat', 'Jakarta Barat', 'Jakarta Barat', 'Jakarta Barat', 'Jakarta Barat', 'Surabaya', 'Bandung', 'Kab. Bandung', 'Kab. Bekasi', 'Bekasi', 'Semarang', 'Bogor', 'Jakarta Timur', 'Bandung', 'Bandung', 'Kab. Bogor', 'Jakarta Pusat', 'Kab. Garut', 'Tangerang', 'Tangerang Selatan', 'Kab. Garut', 'Bandung', 'Tangerang Selatan', 'Kab. Tangerang', 'Kab. Tangerang', 'Jakarta Selatan', 'Jakarta Selatan', 'Jakarta Utara', 'Bandung', 'Kab. Tangerang', 'Jakarta Barat', 'Tasikmalaya', 'Depok', 'Kab. Tangerang', 'Kab. Majalengka', 'Malang', 'Kab. Bandung', 'Cimahi', 'Jakarta Pusat', 'Bandung', 'Jakarta Selatan', 'Kab. Garut', 'Bandung', 'Kab. Garut', 'Kab. Garut', 'Kab. Bantul', 'Kab. Bandung', 'Kab. Bandung', 'Kediri', 'Kab. Tangerang', 'Kab. Garut', 'Depok', 'Kab. Garut', 'Bandung', 'Denpasar', 'Jakarta Timur', 'Tangerang Selatan', 'Kab. Bandung', 'Kab. Bandung', 'Tangerang Selatan', 'Kab. Garut', 'Kab. Majalengka', 'Kab. Garut', 'Tasikmalaya', 'Surabaya', 'Kab. Garut', 'Bandung', 'Bekasi', 'Medan', 'Kab. Garut', 'Depok', 'Jakarta Pusat', 'Depok', 'Jakarta Barat', 'Jakarta Pusat', 'Kab. Malang', 'Jakarta Timur', 'Bandung', 'Bandar Lampung', 'Bogor', 'Jakarta Barat', 'Jakarta Barat', 'Jakarta Barat', 'Jakarta Barat', 'Jakarta Barat', 'Bandung', 'Kab. Bekasi', 'Kab. Bandung', 'Bogor', 'Yogyakarta', 'Semarang', 'Jakarta Barat', 'Bogor', 'Jakarta Timur', 'Bandung', 'Kab. Garut', 'Kab. Bandung Barat', 'Kab. Cianjur', 'Kab. Purwakarta', 'Bandung', 'Jakarta Barat', 'Kab. Garut', 'Tangerang Selatan', 'Kab. Garut', 'Tangerang Selatan', 'Kab. Bandung Barat', 'Tangerang Selatan', 'Kab.Ciamis', 'Cimahi', 'Bandung', 'Jakarta Barat', 'Tasikmalaya', 'Depok', 'Kab. Tangerang', 'Kab. Majalengka', 'Jakarta Timur', 'Kab. Bogor', 'Depok', 'Kab. Garut', 'Kab. Garut', 'Jakarta Selatan', 'Kab. Garut', 'Bandung', 'Kab. Garut', 'Kab. Garut', 'Tangerang', 'Jakarta Utara', 'Kab. Bandung', 'Kab. Tasikmalaya', 'Bandung', 'Kab. Garut', 'Depok', 'Kab. Garut', 'Bandung', 'Denpasar', 'Jakarta Selatan', 'Kab. Kuningan', 'Bogor', 'Tangerang', 'Semarang', 'Kab. Garut', 'Kab. Majalengka', 'Kab. Garut', 'Tasikmalaya', 'Surabaya', 'Kab. Bantul', 'Kab. Bandung', 'Kab. Badung', 'Jakarta Barat', 'Kab. Garut', 'Depok', 'Jakarta Pusat', 'Depok', 'Jakarta Barat', 'Jakarta Pusat', 'Kab. Kediri', 'Kab. Tangerang', 'Bandung', 'Tangerang', 'Kab. Kediri', 'Jakarta Barat', 'Jakarta Barat', 'Jakarta Barat', 'Jakarta Barat', 'Jakarta Barat', 'Kab. Bandung', 'Surabaya', 'Jakarta Pusat', 'Bandung', 'Kab. Tangerang', 'Semarang', 'Jakarta Barat', 'Bogor', 'Jakarta Timur', 'Bandung', 'Jakarta Utara', 'Depok', 'Kab. Garut', 'Kab. Bandung', 'Bandung', 'Bandung', 'Tangerang Selatan', 'Kab. Tangerang', 'Kab. Tangerang', 'Kab. Tangerang', 'Kab. Gresik', 'Yogyakarta', 'Malang', 'Jakarta Timur', 'Jakarta Barat', 'Jakarta Barat', 'Tasikmalaya', 'Kab. Tangerang', 'Depok', 'Kab. Majalengka', 'Malang', 'Malang', 'Malang', 'Malang', 'Kab. Garut', 'Jakarta Selatan', 'Kab. Garut', 'Bandung', 'Kab. Garut', 'Kab. Garut', 'Kab. Garut', 'Jakarta Barat', 'Jakarta Timur', 'Kab. Bekasi', 'Jakarta Timur', 'Kab. Garut', 'Depok', 'Kab. Garut', 'Bandung', 'Denpasar', 'Kab. Garut', 'Jakarta Pusat', 'Jakarta Barat', 'Semarang', 'Kab. Garut', 'Kab. Garut', 'Kab. Majalengka', 'Kab. Garut', 'Tasikmalaya', 'Surabaya', 'Kab. Sukoharjo', 'Medan', 'Jakarta Selatan', 'Jakarta Barat', 'Kab. Deli Serdang', 'Depok', 'Jakarta Pusat', 'Depok', 'Jakarta Barat', 'Jakarta Pusat', 'Jakarta Pusat', 'Kab.Ciamis', 'Kab. Tangerang', 'Tangerang Selatan', 'Kab. Tangerang']\n",
      "Terjual: ['40+ terjual', 'Tidak Tersedia', '250+ terjual', '1rb+ terjual', 'Tidak Tersedia', '3rb+ terjual', '100+ terjual', '1rb+ terjual', '500+ terjual', '1rb+ terjual', '250+ terjual', '1 terjual', '40+ terjual', '60+ terjual', '100+ terjual', '40+ terjual', '100+ terjual', '100+ terjual', '100+ terjual', '70+ terjual', '100+ terjual', '2 terjual', '250+ terjual', '100+ terjual', 'Tidak Tersedia', '70+ terjual', '6 terjual', '50+ terjual', '100+ terjual', '250+ terjual', '30+ terjual', '100+ terjual', '13 terjual', '750+ terjual', 'Tidak Tersedia', '100+ terjual', '30+ terjual', '22 terjual', '6 terjual', '20 terjual', '50+ terjual', '3rb+ terjual', '14 terjual', '750+ terjual', '100+ terjual', '100+ terjual', '12 terjual', '250+ terjual', '50+ terjual', '250+ terjual', '1rb+ terjual', '750+ terjual', '1rb+ terjual', '1rb+ terjual', '1rb+ terjual', '40+ terjual', '40+ terjual', '7 terjual', '100+ terjual', '500+ terjual', '22 terjual', 'Tidak Tersedia', 'Tidak Tersedia', '1rb+ terjual', '500+ terjual', '6 terjual', '100+ terjual', '250+ terjual', '24 terjual', '500+ terjual', '100+ terjual', '100+ terjual', '3rb+ terjual', '70+ terjual', '500+ terjual', '250+ terjual', '750+ terjual', '250+ terjual', '50+ terjual', '6 terjual', '40+ terjual', 'Tidak Tersedia', '250+ terjual', '1rb+ terjual', 'Tidak Tersedia', '80+ terjual', '100+ terjual', '70+ terjual', '50+ terjual', '100+ terjual', '250+ terjual', '1 terjual', '40+ terjual', '60+ terjual', '100+ terjual', '100+ terjual', '250+ terjual', '29 terjual', '7 terjual', '100+ terjual', '100+ terjual', '2 terjual', '250+ terjual', '100+ terjual', 'Tidak Tersedia', '50+ terjual', '28 terjual', '100+ terjual', '4 terjual', '500+ terjual', '100+ terjual', '13 terjual', '100+ terjual', '750+ terjual', 'Tidak Tersedia', '100+ terjual', '50+ terjual', '12 terjual', '40+ terjual', '1rb+ terjual', '50+ terjual', '3rb+ terjual', '14 terjual', '750+ terjual', '100+ terjual', '2 terjual', '3 terjual', '7 terjual', '20 terjual', 'Tidak Tersedia', '1rb+ terjual', '750+ terjual', '1rb+ terjual', '1rb+ terjual', '1rb+ terjual', '1 terjual', '100+ terjual', '13 terjual', '60+ terjual', 'Tidak Tersedia', '22 terjual', 'Tidak Tersedia', 'Tidak Tersedia', 'Tidak Tersedia', '500+ terjual', '100+ terjual', '100+ terjual', '15 terjual', '20 terjual', '250+ terjual', '500+ terjual', '22 terjual', '1rb+ terjual', '100+ terjual', '750+ terjual', 'Tidak Tersedia', '2rb+ terjual', '90+ terjual', 'Tidak Tersedia', '100+ terjual', '40+ terjual', 'Tidak Tersedia', '250+ terjual', '1rb+ terjual', 'Tidak Tersedia', '3 terjual', '1 terjual', '25 terjual', '30+ terjual', '50+ terjual', '250+ terjual', '1 terjual', '40+ terjual', '60+ terjual', '100+ terjual', '21 terjual', 'Tidak Tersedia', '2 terjual', '3 terjual', '22 terjual', '100+ terjual', '2 terjual', '250+ terjual', '100+ terjual', 'Tidak Tersedia', '2 terjual', '3 terjual', '3 terjual', '4 terjual', 'Tidak Tersedia', '100+ terjual', '13 terjual', '100+ terjual', '750+ terjual', 'Tidak Tersedia', 'Tidak Tersedia', '18 terjual', '15 terjual', '2 terjual', '100+ terjual', '50+ terjual', '3rb+ terjual', '14 terjual', '750+ terjual', '100+ terjual', '3 terjual', 'Tidak Tersedia', '250+ terjual', 'Tidak Tersedia', '6 terjual', '1rb+ terjual', '750+ terjual', '1rb+ terjual', '1rb+ terjual', '1rb+ terjual', '3 terjual', '14 terjual', 'Tidak Tersedia', '1 terjual', '23 terjual', '22 terjual', 'Tidak Tersedia', 'Tidak Tersedia', 'Tidak Tersedia', '1rb+ terjual', '4 terjual', 'Tidak Tersedia', '30+ terjual', '90+ terjual', '23 terjual', '100+ terjual', '3rb+ terjual', '70+ terjual', '500+ terjual', '100+ terjual', 'Tidak Tersedia', 'Tidak Tersedia', '70+ terjual', 'Tidak Tersedia', 'Tidak Tersedia', '40+ terjual', 'Tidak Tersedia', '1rb+ terjual', '250+ terjual', 'Tidak Tersedia', '30+ terjual', '28 terjual', '100+ terjual', '250+ terjual', '40+ terjual', '250+ terjual', '1 terjual', '40+ terjual', '60+ terjual', '100+ terjual', '30+ terjual', 'Tidak Tersedia', '5 terjual', 'Tidak Tersedia', '2 terjual', '100+ terjual', '2 terjual', '250+ terjual', '100+ terjual', 'Tidak Tersedia', '50+ terjual', 'Tidak Tersedia', '1 terjual', 'Tidak Tersedia', '100+ terjual', '100+ terjual', '13 terjual', '100+ terjual', '750+ terjual', 'Tidak Tersedia', '19 terjual', '2 terjual', '4 terjual', '22 terjual', 'Tidak Tersedia', '50+ terjual', '3rb+ terjual', '14 terjual', '750+ terjual', '100+ terjual', 'Tidak Tersedia', 'Tidak Tersedia', '7 terjual', 'Tidak Tersedia', '4 terjual']\n",
      "Rating: ['4.8', 'Tidak Tersedia', '4.9', '4.8', 'Tidak Tersedia', '4.9', '4.7', '4.8', '5.0', '4.9', '4.8', '5.0', '4.9', '4.9', '4.9', '4.9', '4.9', '4.7', '4.9', '5.0', '4.8', '5.0', '4.9', '4.8', 'Tidak Tersedia', '4.7', '5.0', '5.0', '4.9', '4.8', '5.0', '5.0', '5.0', '4.8', 'Tidak Tersedia', '5.0', '5.0', '5.0', '5.0', '5.0', '4.8', '4.9', '4.5', '4.8', '4.9', '4.7', '4.0', '4.8', '5.0', '4.9', '4.7', '4.7', '4.9', '4.9', '4.9', '4.4', '5.0', '5.0', '5.0', '4.9', '5.0', 'Tidak Tersedia', 'Tidak Tersedia', '4.9', '4.9', '5.0', '4.8', '4.9', '4.6', '4.9', '4.9', '4.8', '4.8', '5.0', '4.8', '4.8', '4.6', '4.8', '4.9', '5.0', '4.8', 'Tidak Tersedia', '4.9', '4.8', 'Tidak Tersedia', '4.9', '4.9', '5.0', '4.9', '4.9', '4.8', '5.0', '4.9', '4.9', '4.9', '5.0', '4.8', '5.0', '5.0', '4.9', '4.8', '5.0', '4.9', '4.8', 'Tidak Tersedia', '5.0', '4.3', '4.6', '5.0', '4.9', '5.0', '5.0', '4.9', '4.8', 'Tidak Tersedia', '4.8', '4.9', '5.0', '5.0', '4.9', '4.8', '4.9', '4.5', '4.8', '4.9', '5.0', '5.0', 'Tidak Tersedia', '5.0', 'Tidak Tersedia', '4.7', '4.7', '4.9', '4.9', '4.9', 'Tidak Tersedia', '4.5', '5.0', '4.9', 'Tidak Tersedia', '5.0', 'Tidak Tersedia', 'Tidak Tersedia', 'Tidak Tersedia', '4.9', '5.0', '4.9', '4.8', '5.0', '5.0', '5.0', '5.0', '4.8', '4.9', '4.7', 'Tidak Tersedia', '4.8', '4.8', 'Tidak Tersedia', '4.8', '4.8', 'Tidak Tersedia', '4.9', '4.8', 'Tidak Tersedia', '5.0', 'Tidak Tersedia', '4.0', '5.0', '5.0', '4.8', '5.0', '4.9', '4.9', '4.9', '4.6', 'Tidak Tersedia', '5.0', '5.0', '5.0', '4.8', '5.0', '4.9', '4.8', 'Tidak Tersedia', 'Tidak Tersedia', 'Tidak Tersedia', '5.0', '5.0', 'Tidak Tersedia', '5.0', '5.0', '4.9', '4.8', 'Tidak Tersedia', 'Tidak Tersedia', '4.6', '5.0', '5.0', '4.9', '4.8', '4.9', '4.5', '4.8', '4.9', 'Tidak Tersedia', 'Tidak Tersedia', '4.9', 'Tidak Tersedia', '5.0', '4.7', '4.7', '4.9', '4.9', '4.9', '5.0', '4.7', 'Tidak Tersedia', '5.0', '5.0', '5.0', 'Tidak Tersedia', 'Tidak Tersedia', 'Tidak Tersedia', '4.9', 'Tidak Tersedia', 'Tidak Tersedia', '4.9', '5.0', '5.0', '4.8', '4.8', '5.0', '4.8', '5.0', 'Tidak Tersedia', 'Tidak Tersedia', '4.8', 'Tidak Tersedia', 'Tidak Tersedia', '4.8', 'Tidak Tersedia', '4.8', '4.9', 'Tidak Tersedia', 'Tidak Tersedia', '5.0', '4.7', '4.9', '4.7', '4.8', '5.0', '4.9', '4.9', '4.9', '4.9', 'Tidak Tersedia', '5.0', 'Tidak Tersedia', '5.0', '4.8', '5.0', '4.9', '4.8', 'Tidak Tersedia', '4.8', 'Tidak Tersedia', 'Tidak Tersedia', 'Tidak Tersedia', '4.9', '5.0', '5.0', '4.9', '4.8', 'Tidak Tersedia', '5.0', 'Tidak Tersedia', '5.0', '5.0', 'Tidak Tersedia', '4.8', '4.9', '4.5', '4.8', '4.9', 'Tidak Tersedia', 'Tidak Tersedia', '5.0', 'Tidak Tersedia', '4.0']\n"
     ]
    }
   ],
   "source": [
    "\n",
    "# Membuat daftar kosong untuk menyimpan data produk dari situs web e-commerce tokopedia\n",
    "produk_list = []\n",
    "harga_list = []\n",
    "penjual_list = []\n",
    "kota_penjual_list = []\n",
    "terjual_list = []\n",
    "rating_list = []\n",
    "\n",
    "# Konfigurasi driver Selenium \n",
    "driver = webdriver.Chrome()\n",
    "\n",
    "# Mengumpulkan data dari beberapa halaman\n",
    "for page_num in range(1, 30):\n",
    "    url = f\"https://www.tokopedia.com/search?navsource=&page={page_num}&q=seblak&srp_component_id=02.01.00.00&srp_page_id=&srp_page_title=&st=\"\n",
    "    driver.get(url)\n",
    "    \n",
    "    # Memberikan waktu tunggu agar halaman terpanggil dengan sempurna\n",
    "    time.sleep(5)\n",
    "    \n",
    "    # Mengambil konten halaman\n",
    "    html_content = driver.page_source\n",
    "    soup = BeautifulSoup(html_content, 'html.parser')\n",
    "    \n",
    "    # Menemukan elemen kontainer produk\n",
    "    product_containers = soup.find_all('div', {'class': 'css-jza1fo'})\n",
    "    \n",
    "    for container in product_containers:\n",
    "        product_elements = container.find_all('div', {'class': 'css-1asz3by'})\n",
    "        \n",
    "        for element in product_elements:\n",
    "            # Mengambil nama produk\n",
    "            produk_name = element.find('div', {'class': 'prd_link-product-name css-3um8ox'})\n",
    "            produk_list.append(produk_name.get_text() if produk_name else 'None')\n",
    "            \n",
    "            # Mengambil harga produk\n",
    "            harga_product = element.find('div', {'class': 'prd_link-product-price css-h66vau'})\n",
    "            harga_list.append(harga_product.get_text() if harga_product else 'None')\n",
    "            \n",
    "            # Mengambil nama penjual\n",
    "            penjual_name = element.find('span', {'class': 'prd_link-shop-name css-1kdc32b flip'})\n",
    "            penjual_list.append(penjual_name.get_text() if penjual_name else 'None')\n",
    "            \n",
    "            # Mengambil kota penjual\n",
    "            kota_penjual_name = element.find('span', {'class': 'prd_link-shop-loc css-1kdc32b flip'})\n",
    "            kota_penjual_list.append(kota_penjual_name.get_text() if kota_penjual_name else 'None')\n",
    "            \n",
    "            # Mengambil jumlah produk terjual\n",
    "            terjual_count = element.find('span', {'class': 'prd_label-integrity css-1sgek4h'})\n",
    "            terjual_list.append(terjual_count.get_text() if terjual_count else 'None')\n",
    "            \n",
    "            # Mengambil rating produk\n",
    "            rating_value = element.find('span', {'class': 'prd_rating-average-text css-t70v7i'})\n",
    "            rating_list.append(rating_value.get_text() if rating_value else 'None')\n",
    "\n",
    "# Menutup driver\n",
    "driver.quit()\n",
    "\n",
    "# Hasil data yang telah dikumpulkan\n",
    "print(\"Produk:\", produk_list)\n",
    "print(\"Harga:\", harga_list)\n",
    "print(\"Penjual:\", penjual_list)\n",
    "print(\"Kota Penjual:\", kota_penjual_list)\n",
    "print(\"Terjual:\", terjual_list)\n",
    "print(\"Rating:\", rating_list)\n"
   ]
  },
  {
   "cell_type": "markdown",
   "metadata": {},
   "source": [
    "Setelah kita berhasil melakukan web scrapping langkah selanjutnya kita akan merubahnya menjadi dataframe"
   ]
  },
  {
   "cell_type": "code",
   "execution_count": 4,
   "metadata": {},
   "outputs": [
    {
     "data": {
      "text/html": [
       "<div>\n",
       "<style scoped>\n",
       "    .dataframe tbody tr th:only-of-type {\n",
       "        vertical-align: middle;\n",
       "    }\n",
       "\n",
       "    .dataframe tbody tr th {\n",
       "        vertical-align: top;\n",
       "    }\n",
       "\n",
       "    .dataframe thead th {\n",
       "        text-align: right;\n",
       "    }\n",
       "</style>\n",
       "<table border=\"1\" class=\"dataframe\">\n",
       "  <thead>\n",
       "    <tr style=\"text-align: right;\">\n",
       "      <th></th>\n",
       "      <th>Nama Produk</th>\n",
       "      <th>Harga Produk</th>\n",
       "      <th>Penjual</th>\n",
       "      <th>Kota Penjual</th>\n",
       "      <th>Terjual</th>\n",
       "      <th>Rating</th>\n",
       "    </tr>\n",
       "  </thead>\n",
       "  <tbody>\n",
       "    <tr>\n",
       "      <th>0</th>\n",
       "      <td>Kerupuk seblak kering 500 gram extra pedas /se...</td>\n",
       "      <td>Rp24.700</td>\n",
       "      <td>oyun kriukzz</td>\n",
       "      <td>Jakarta Barat</td>\n",
       "      <td>40+ terjual</td>\n",
       "      <td>4.8</td>\n",
       "    </tr>\n",
       "    <tr>\n",
       "      <th>1</th>\n",
       "      <td>Seblak Instan Bang Satria Kemasan PremiumDeskr...</td>\n",
       "      <td>Rp21.250</td>\n",
       "      <td>Pusat Pajamas Tasik</td>\n",
       "      <td>Tasikmalaya</td>\n",
       "      <td>Tidak Tersedia</td>\n",
       "      <td>Tidak Tersedia</td>\n",
       "    </tr>\n",
       "    <tr>\n",
       "      <th>2</th>\n",
       "      <td>Kerupuk Seblak Rafael Pedas / Seblak Mawar Ped...</td>\n",
       "      <td>Rp16.000</td>\n",
       "      <td>DUO BOCIL SNACK</td>\n",
       "      <td>Depok</td>\n",
       "      <td>250+ terjual</td>\n",
       "      <td>4.9</td>\n",
       "    </tr>\n",
       "    <tr>\n",
       "      <th>3</th>\n",
       "      <td>SEBLAK INSTAN MOMMY - Rica-Rica</td>\n",
       "      <td>Rp13.900</td>\n",
       "      <td>Rav Jaya Display</td>\n",
       "      <td>Kab. Tangerang</td>\n",
       "      <td>1rb+ terjual</td>\n",
       "      <td>4.8</td>\n",
       "    </tr>\n",
       "    <tr>\n",
       "      <th>4</th>\n",
       "      <td>krupuk lidah campuran seblak dan bakso kuah</td>\n",
       "      <td>Rp20.000</td>\n",
       "      <td>boisfrozen</td>\n",
       "      <td>Kab. Majalengka</td>\n",
       "      <td>Tidak Tersedia</td>\n",
       "      <td>Tidak Tersedia</td>\n",
       "    </tr>\n",
       "    <tr>\n",
       "      <th>...</th>\n",
       "      <td>...</td>\n",
       "      <td>...</td>\n",
       "      <td>...</td>\n",
       "      <td>...</td>\n",
       "      <td>...</td>\n",
       "      <td>...</td>\n",
       "    </tr>\n",
       "    <tr>\n",
       "      <th>285</th>\n",
       "      <td>KERUPUK SEBLAK MENTAH RANTAI/TARAJE/TANGGA/JAR...</td>\n",
       "      <td>Rp100.500</td>\n",
       "      <td>BuahCandu</td>\n",
       "      <td>Jakarta Pusat</td>\n",
       "      <td>Tidak Tersedia</td>\n",
       "      <td>Tidak Tersedia</td>\n",
       "    </tr>\n",
       "    <tr>\n",
       "      <th>286</th>\n",
       "      <td>Makaroni kilo cikruh seblak pedas cemilan makr...</td>\n",
       "      <td>Rp6.000</td>\n",
       "      <td>OzFood</td>\n",
       "      <td>Kab.Ciamis</td>\n",
       "      <td>Tidak Tersedia</td>\n",
       "      <td>Tidak Tersedia</td>\n",
       "    </tr>\n",
       "    <tr>\n",
       "      <th>287</th>\n",
       "      <td>paket jualan baso aci mix seblak 11pcs</td>\n",
       "      <td>Rp42.999</td>\n",
       "      <td>TigoSadulur</td>\n",
       "      <td>Kab. Tangerang</td>\n",
       "      <td>7 terjual</td>\n",
       "      <td>5.0</td>\n",
       "    </tr>\n",
       "    <tr>\n",
       "      <th>288</th>\n",
       "      <td>Kerupuk Bawang Seblak 4,5 kg</td>\n",
       "      <td>Rp79.900</td>\n",
       "      <td>AJM Kaos Online</td>\n",
       "      <td>Tangerang Selatan</td>\n",
       "      <td>Tidak Tersedia</td>\n",
       "      <td>Tidak Tersedia</td>\n",
       "    </tr>\n",
       "    <tr>\n",
       "      <th>289</th>\n",
       "      <td>KERUPUK JABLAY KERIPIK JABLAY PEDAS KERUPUK SE...</td>\n",
       "      <td>Rp16.500</td>\n",
       "      <td>Caviarwear</td>\n",
       "      <td>Kab. Tangerang</td>\n",
       "      <td>4 terjual</td>\n",
       "      <td>4.0</td>\n",
       "    </tr>\n",
       "  </tbody>\n",
       "</table>\n",
       "<p>290 rows × 6 columns</p>\n",
       "</div>"
      ],
      "text/plain": [
       "                                           Nama Produk Harga Produk  \\\n",
       "0    Kerupuk seblak kering 500 gram extra pedas /se...     Rp24.700   \n",
       "1    Seblak Instan Bang Satria Kemasan PremiumDeskr...     Rp21.250   \n",
       "2    Kerupuk Seblak Rafael Pedas / Seblak Mawar Ped...     Rp16.000   \n",
       "3                      SEBLAK INSTAN MOMMY - Rica-Rica     Rp13.900   \n",
       "4          krupuk lidah campuran seblak dan bakso kuah     Rp20.000   \n",
       "..                                                 ...          ...   \n",
       "285  KERUPUK SEBLAK MENTAH RANTAI/TARAJE/TANGGA/JAR...    Rp100.500   \n",
       "286  Makaroni kilo cikruh seblak pedas cemilan makr...      Rp6.000   \n",
       "287             paket jualan baso aci mix seblak 11pcs     Rp42.999   \n",
       "288                       Kerupuk Bawang Seblak 4,5 kg     Rp79.900   \n",
       "289  KERUPUK JABLAY KERIPIK JABLAY PEDAS KERUPUK SE...     Rp16.500   \n",
       "\n",
       "                 Penjual       Kota Penjual         Terjual          Rating  \n",
       "0           oyun kriukzz      Jakarta Barat     40+ terjual             4.8  \n",
       "1    Pusat Pajamas Tasik        Tasikmalaya  Tidak Tersedia  Tidak Tersedia  \n",
       "2        DUO BOCIL SNACK              Depok    250+ terjual             4.9  \n",
       "3       Rav Jaya Display     Kab. Tangerang    1rb+ terjual             4.8  \n",
       "4             boisfrozen    Kab. Majalengka  Tidak Tersedia  Tidak Tersedia  \n",
       "..                   ...                ...             ...             ...  \n",
       "285            BuahCandu      Jakarta Pusat  Tidak Tersedia  Tidak Tersedia  \n",
       "286               OzFood         Kab.Ciamis  Tidak Tersedia  Tidak Tersedia  \n",
       "287          TigoSadulur     Kab. Tangerang       7 terjual             5.0  \n",
       "288      AJM Kaos Online  Tangerang Selatan  Tidak Tersedia  Tidak Tersedia  \n",
       "289           Caviarwear     Kab. Tangerang       4 terjual             4.0  \n",
       "\n",
       "[290 rows x 6 columns]"
      ]
     },
     "execution_count": 4,
     "metadata": {},
     "output_type": "execute_result"
    }
   ],
   "source": [
    "# Menampilkan data kebentuk dataframe\n",
    "Dataset = pd.DataFrame()\n",
    "\n",
    "Dataset['Nama Produk'] = produk_list\n",
    "Dataset['Harga Produk'] = harga_list\n",
    "Dataset['Penjual'] = penjual_list\n",
    "Dataset['Kota Penjual'] = kota_penjual_list\n",
    "Dataset['Terjual'] = terjual_list\n",
    "Dataset['Rating'] = rating_list\n",
    "\n",
    "Dataset"
   ]
  },
  {
   "cell_type": "markdown",
   "metadata": {},
   "source": [
    "**Kesimpulan** setelah melakukan web scraping yang dapat diambil meliputi beberapa aspek penting yang berkaitan dengan hasil dan proses scraping itu sendiri. Berikut adalah beberapa poin kesimpulan yang dapat diperoleh:\n",
    "* 1. Data yang sudah dikumpulkan mencakup jumlah data, jenis data, kolom data dan kualitas data\n",
    "* 2. Proses scraping yang dilakukan berjalan lancar tanpa adanya error\n",
    "* 3. Data yang dapat diambil dari hasil scraping adalah bahwa data yang bisa dianalisa\n",
    "\n",
    "Dengan mempertimbangkan semua aspek di atas, kita dapat memahami nilai dan implikasi dari web scraping yang dilakukan, serta bagaimana data yang diperoleh dapat digunakan secara efektif untuk tujuan yang diinginkan.\n"
   ]
  },
  {
   "cell_type": "markdown",
   "metadata": {},
   "source": [
    "# Data Preparation"
   ]
  },
  {
   "cell_type": "code",
   "execution_count": 5,
   "metadata": {},
   "outputs": [
    {
     "data": {
      "text/html": [
       "<div>\n",
       "<style scoped>\n",
       "    .dataframe tbody tr th:only-of-type {\n",
       "        vertical-align: middle;\n",
       "    }\n",
       "\n",
       "    .dataframe tbody tr th {\n",
       "        vertical-align: top;\n",
       "    }\n",
       "\n",
       "    .dataframe thead th {\n",
       "        text-align: right;\n",
       "    }\n",
       "</style>\n",
       "<table border=\"1\" class=\"dataframe\">\n",
       "  <thead>\n",
       "    <tr style=\"text-align: right;\">\n",
       "      <th></th>\n",
       "      <th>Nama Produk</th>\n",
       "      <th>Harga Produk</th>\n",
       "      <th>Penjual</th>\n",
       "      <th>Kota Penjual</th>\n",
       "      <th>Terjual</th>\n",
       "      <th>Rating</th>\n",
       "    </tr>\n",
       "  </thead>\n",
       "  <tbody>\n",
       "    <tr>\n",
       "      <th>0</th>\n",
       "      <td>Kerupuk seblak kering 500 gram extra pedas /se...</td>\n",
       "      <td>Rp24.700</td>\n",
       "      <td>oyun kriukzz</td>\n",
       "      <td>Jakarta Barat</td>\n",
       "      <td>40+ terjual</td>\n",
       "      <td>4.8</td>\n",
       "    </tr>\n",
       "    <tr>\n",
       "      <th>1</th>\n",
       "      <td>Seblak Instan Bang Satria Kemasan PremiumDeskr...</td>\n",
       "      <td>Rp21.250</td>\n",
       "      <td>Pusat Pajamas Tasik</td>\n",
       "      <td>Tasikmalaya</td>\n",
       "      <td>Tidak Tersedia</td>\n",
       "      <td>Tidak Tersedia</td>\n",
       "    </tr>\n",
       "    <tr>\n",
       "      <th>2</th>\n",
       "      <td>Kerupuk Seblak Rafael Pedas / Seblak Mawar Ped...</td>\n",
       "      <td>Rp16.000</td>\n",
       "      <td>DUO BOCIL SNACK</td>\n",
       "      <td>Depok</td>\n",
       "      <td>250+ terjual</td>\n",
       "      <td>4.9</td>\n",
       "    </tr>\n",
       "    <tr>\n",
       "      <th>3</th>\n",
       "      <td>SEBLAK INSTAN MOMMY - Rica-Rica</td>\n",
       "      <td>Rp13.900</td>\n",
       "      <td>Rav Jaya Display</td>\n",
       "      <td>Kab. Tangerang</td>\n",
       "      <td>1rb+ terjual</td>\n",
       "      <td>4.8</td>\n",
       "    </tr>\n",
       "    <tr>\n",
       "      <th>4</th>\n",
       "      <td>krupuk lidah campuran seblak dan bakso kuah</td>\n",
       "      <td>Rp20.000</td>\n",
       "      <td>boisfrozen</td>\n",
       "      <td>Kab. Majalengka</td>\n",
       "      <td>Tidak Tersedia</td>\n",
       "      <td>Tidak Tersedia</td>\n",
       "    </tr>\n",
       "  </tbody>\n",
       "</table>\n",
       "</div>"
      ],
      "text/plain": [
       "                                         Nama Produk Harga Produk  \\\n",
       "0  Kerupuk seblak kering 500 gram extra pedas /se...     Rp24.700   \n",
       "1  Seblak Instan Bang Satria Kemasan PremiumDeskr...     Rp21.250   \n",
       "2  Kerupuk Seblak Rafael Pedas / Seblak Mawar Ped...     Rp16.000   \n",
       "3                    SEBLAK INSTAN MOMMY - Rica-Rica     Rp13.900   \n",
       "4        krupuk lidah campuran seblak dan bakso kuah     Rp20.000   \n",
       "\n",
       "               Penjual     Kota Penjual         Terjual          Rating  \n",
       "0         oyun kriukzz    Jakarta Barat     40+ terjual             4.8  \n",
       "1  Pusat Pajamas Tasik      Tasikmalaya  Tidak Tersedia  Tidak Tersedia  \n",
       "2      DUO BOCIL SNACK            Depok    250+ terjual             4.9  \n",
       "3     Rav Jaya Display   Kab. Tangerang    1rb+ terjual             4.8  \n",
       "4           boisfrozen  Kab. Majalengka  Tidak Tersedia  Tidak Tersedia  "
      ]
     },
     "execution_count": 5,
     "metadata": {},
     "output_type": "execute_result"
    }
   ],
   "source": [
    "# Menampilkan kolom-kolom dari data\n",
    "Dataset.head()"
   ]
  },
  {
   "cell_type": "code",
   "execution_count": 6,
   "metadata": {},
   "outputs": [
    {
     "data": {
      "text/plain": [
       "Nama Produk     0\n",
       "Harga Produk    0\n",
       "Penjual         0\n",
       "Kota Penjual    0\n",
       "Terjual         0\n",
       "Rating          0\n",
       "dtype: int64"
      ]
     },
     "execution_count": 6,
     "metadata": {},
     "output_type": "execute_result"
    }
   ],
   "source": [
    "# Mengecek data apakah ada missing value\n",
    "Dataset.isnull().sum()"
   ]
  },
  {
   "cell_type": "markdown",
   "metadata": {},
   "source": [
    "Dari data diatas tidak ditemukan adanya missing value jadi kita akan melanjutkan proses selanjutnya"
   ]
  },
  {
   "cell_type": "code",
   "execution_count": 7,
   "metadata": {},
   "outputs": [
    {
     "name": "stdout",
     "output_type": "stream",
     "text": [
      "<class 'pandas.core.frame.DataFrame'>\n",
      "RangeIndex: 290 entries, 0 to 289\n",
      "Data columns (total 6 columns):\n",
      " #   Column        Non-Null Count  Dtype \n",
      "---  ------        --------------  ----- \n",
      " 0   Nama Produk   290 non-null    object\n",
      " 1   Harga Produk  290 non-null    object\n",
      " 2   Penjual       290 non-null    object\n",
      " 3   Kota Penjual  290 non-null    object\n",
      " 4   Terjual       290 non-null    object\n",
      " 5   Rating        290 non-null    object\n",
      "dtypes: object(6)\n",
      "memory usage: 13.7+ KB\n"
     ]
    }
   ],
   "source": [
    "# Mengecek tipe data\n",
    "Dataset.info()"
   ]
  },
  {
   "cell_type": "markdown",
   "metadata": {},
   "source": [
    "Dapat kita lihat bahwa dari atas masih ada tipe data yang tidak sesuai yang kita harapkan seperti:\n",
    "* Harga Produk\n",
    "* Terjual\n",
    "* Rating\n",
    "\n",
    "Lalu kita akan mengubah tipe data diatas supaya nantinya bisa dilakukan proses analisa"
   ]
  },
  {
   "cell_type": "markdown",
   "metadata": {},
   "source": [
    "**Kesimpulan** dari data preparation adalah masih adanya tipedata yang tidak sesuai seperti : `Harga Produk`, `Terjual` dan `Rating` yang masih berbentuk string dan saat mengecek missing value terlihat tidak adanya missing value jadi tidak harus melakukan pencarian missing value ini akan mempercepat melakukan proses selanjutnya yaitu data cleaning."
   ]
  },
  {
   "cell_type": "markdown",
   "metadata": {},
   "source": [
    "# Data Cleaning"
   ]
  },
  {
   "cell_type": "code",
   "execution_count": 8,
   "metadata": {},
   "outputs": [
    {
     "data": {
      "text/html": [
       "<div>\n",
       "<style scoped>\n",
       "    .dataframe tbody tr th:only-of-type {\n",
       "        vertical-align: middle;\n",
       "    }\n",
       "\n",
       "    .dataframe tbody tr th {\n",
       "        vertical-align: top;\n",
       "    }\n",
       "\n",
       "    .dataframe thead th {\n",
       "        text-align: right;\n",
       "    }\n",
       "</style>\n",
       "<table border=\"1\" class=\"dataframe\">\n",
       "  <thead>\n",
       "    <tr style=\"text-align: right;\">\n",
       "      <th></th>\n",
       "      <th>Nama Produk</th>\n",
       "      <th>Harga Produk</th>\n",
       "      <th>Penjual</th>\n",
       "      <th>Kota Penjual</th>\n",
       "      <th>Terjual</th>\n",
       "      <th>Rating</th>\n",
       "    </tr>\n",
       "  </thead>\n",
       "  <tbody>\n",
       "    <tr>\n",
       "      <th>0</th>\n",
       "      <td>Kerupuk seblak kering 500 gram extra pedas /se...</td>\n",
       "      <td>Rp24.700</td>\n",
       "      <td>oyun kriukzz</td>\n",
       "      <td>Jakarta Barat</td>\n",
       "      <td>40+ terjual</td>\n",
       "      <td>4.8</td>\n",
       "    </tr>\n",
       "    <tr>\n",
       "      <th>1</th>\n",
       "      <td>Seblak Instan Bang Satria Kemasan PremiumDeskr...</td>\n",
       "      <td>Rp21.250</td>\n",
       "      <td>Pusat Pajamas Tasik</td>\n",
       "      <td>Tasikmalaya</td>\n",
       "      <td>Tidak Tersedia</td>\n",
       "      <td>Tidak Tersedia</td>\n",
       "    </tr>\n",
       "    <tr>\n",
       "      <th>2</th>\n",
       "      <td>Kerupuk Seblak Rafael Pedas / Seblak Mawar Ped...</td>\n",
       "      <td>Rp16.000</td>\n",
       "      <td>DUO BOCIL SNACK</td>\n",
       "      <td>Depok</td>\n",
       "      <td>250+ terjual</td>\n",
       "      <td>4.9</td>\n",
       "    </tr>\n",
       "    <tr>\n",
       "      <th>3</th>\n",
       "      <td>SEBLAK INSTAN MOMMY - Rica-Rica</td>\n",
       "      <td>Rp13.900</td>\n",
       "      <td>Rav Jaya Display</td>\n",
       "      <td>Kab. Tangerang</td>\n",
       "      <td>1rb+ terjual</td>\n",
       "      <td>4.8</td>\n",
       "    </tr>\n",
       "    <tr>\n",
       "      <th>4</th>\n",
       "      <td>krupuk lidah campuran seblak dan bakso kuah</td>\n",
       "      <td>Rp20.000</td>\n",
       "      <td>boisfrozen</td>\n",
       "      <td>Kab. Majalengka</td>\n",
       "      <td>Tidak Tersedia</td>\n",
       "      <td>Tidak Tersedia</td>\n",
       "    </tr>\n",
       "  </tbody>\n",
       "</table>\n",
       "</div>"
      ],
      "text/plain": [
       "                                         Nama Produk Harga Produk  \\\n",
       "0  Kerupuk seblak kering 500 gram extra pedas /se...     Rp24.700   \n",
       "1  Seblak Instan Bang Satria Kemasan PremiumDeskr...     Rp21.250   \n",
       "2  Kerupuk Seblak Rafael Pedas / Seblak Mawar Ped...     Rp16.000   \n",
       "3                    SEBLAK INSTAN MOMMY - Rica-Rica     Rp13.900   \n",
       "4        krupuk lidah campuran seblak dan bakso kuah     Rp20.000   \n",
       "\n",
       "               Penjual     Kota Penjual         Terjual          Rating  \n",
       "0         oyun kriukzz    Jakarta Barat     40+ terjual             4.8  \n",
       "1  Pusat Pajamas Tasik      Tasikmalaya  Tidak Tersedia  Tidak Tersedia  \n",
       "2      DUO BOCIL SNACK            Depok    250+ terjual             4.9  \n",
       "3     Rav Jaya Display   Kab. Tangerang    1rb+ terjual             4.8  \n",
       "4           boisfrozen  Kab. Majalengka  Tidak Tersedia  Tidak Tersedia  "
      ]
     },
     "execution_count": 8,
     "metadata": {},
     "output_type": "execute_result"
    }
   ],
   "source": [
    "# Melihat isi dataset \n",
    "Dataset.head()"
   ]
  },
  {
   "cell_type": "code",
   "execution_count": 9,
   "metadata": {},
   "outputs": [
    {
     "data": {
      "text/plain": [
       "Index(['Nama Produk', 'Harga Produk', 'Penjual', 'Kota Penjual', 'Terjual',\n",
       "       'Rating'],\n",
       "      dtype='object')"
      ]
     },
     "execution_count": 9,
     "metadata": {},
     "output_type": "execute_result"
    }
   ],
   "source": [
    "# Mengecek kembali kolom dari data diatas\n",
    "Dataset.columns"
   ]
  },
  {
   "cell_type": "code",
   "execution_count": 10,
   "metadata": {},
   "outputs": [
    {
     "name": "stdout",
     "output_type": "stream",
     "text": [
      "<class 'pandas.core.frame.DataFrame'>\n",
      "RangeIndex: 290 entries, 0 to 289\n",
      "Data columns (total 6 columns):\n",
      " #   Column        Non-Null Count  Dtype \n",
      "---  ------        --------------  ----- \n",
      " 0   Nama Produk   290 non-null    object\n",
      " 1   Harga Produk  290 non-null    object\n",
      " 2   Penjual       290 non-null    object\n",
      " 3   Kota Penjual  290 non-null    object\n",
      " 4   Terjual       290 non-null    object\n",
      " 5   Rating        290 non-null    object\n",
      "dtypes: object(6)\n",
      "memory usage: 13.7+ KB\n"
     ]
    }
   ],
   "source": [
    "# Mengecek kembali tipe data \n",
    "Dataset.info()"
   ]
  },
  {
   "cell_type": "code",
   "execution_count": 11,
   "metadata": {},
   "outputs": [
    {
     "data": {
      "text/plain": [
       "96"
      ]
     },
     "execution_count": 11,
     "metadata": {},
     "output_type": "execute_result"
    }
   ],
   "source": [
    "# Mengecek data duplikat\n",
    "Dataset.duplicated().sum()"
   ]
  },
  {
   "cell_type": "markdown",
   "metadata": {},
   "source": [
    "Terdapat 100 data duplikat selanjutnya kita akan menghilangkan data duplikat itu"
   ]
  },
  {
   "cell_type": "code",
   "execution_count": 12,
   "metadata": {},
   "outputs": [
    {
     "data": {
      "text/html": [
       "<div>\n",
       "<style scoped>\n",
       "    .dataframe tbody tr th:only-of-type {\n",
       "        vertical-align: middle;\n",
       "    }\n",
       "\n",
       "    .dataframe tbody tr th {\n",
       "        vertical-align: top;\n",
       "    }\n",
       "\n",
       "    .dataframe thead th {\n",
       "        text-align: right;\n",
       "    }\n",
       "</style>\n",
       "<table border=\"1\" class=\"dataframe\">\n",
       "  <thead>\n",
       "    <tr style=\"text-align: right;\">\n",
       "      <th></th>\n",
       "      <th>Nama Produk</th>\n",
       "      <th>Harga Produk</th>\n",
       "      <th>Penjual</th>\n",
       "      <th>Kota Penjual</th>\n",
       "      <th>Terjual</th>\n",
       "      <th>Rating</th>\n",
       "    </tr>\n",
       "  </thead>\n",
       "  <tbody>\n",
       "    <tr>\n",
       "      <th>0</th>\n",
       "      <td>Kerupuk seblak kering 500 gram extra pedas /se...</td>\n",
       "      <td>Rp24.700</td>\n",
       "      <td>oyun kriukzz</td>\n",
       "      <td>Jakarta Barat</td>\n",
       "      <td>40+ terjual</td>\n",
       "      <td>4.8</td>\n",
       "    </tr>\n",
       "    <tr>\n",
       "      <th>1</th>\n",
       "      <td>Seblak Instan Bang Satria Kemasan PremiumDeskr...</td>\n",
       "      <td>Rp21.250</td>\n",
       "      <td>Pusat Pajamas Tasik</td>\n",
       "      <td>Tasikmalaya</td>\n",
       "      <td>Tidak Tersedia</td>\n",
       "      <td>Tidak Tersedia</td>\n",
       "    </tr>\n",
       "    <tr>\n",
       "      <th>2</th>\n",
       "      <td>Kerupuk Seblak Rafael Pedas / Seblak Mawar Ped...</td>\n",
       "      <td>Rp16.000</td>\n",
       "      <td>DUO BOCIL SNACK</td>\n",
       "      <td>Depok</td>\n",
       "      <td>250+ terjual</td>\n",
       "      <td>4.9</td>\n",
       "    </tr>\n",
       "    <tr>\n",
       "      <th>3</th>\n",
       "      <td>SEBLAK INSTAN MOMMY - Rica-Rica</td>\n",
       "      <td>Rp13.900</td>\n",
       "      <td>Rav Jaya Display</td>\n",
       "      <td>Kab. Tangerang</td>\n",
       "      <td>1rb+ terjual</td>\n",
       "      <td>4.8</td>\n",
       "    </tr>\n",
       "    <tr>\n",
       "      <th>4</th>\n",
       "      <td>krupuk lidah campuran seblak dan bakso kuah</td>\n",
       "      <td>Rp20.000</td>\n",
       "      <td>boisfrozen</td>\n",
       "      <td>Kab. Majalengka</td>\n",
       "      <td>Tidak Tersedia</td>\n",
       "      <td>Tidak Tersedia</td>\n",
       "    </tr>\n",
       "    <tr>\n",
       "      <th>...</th>\n",
       "      <td>...</td>\n",
       "      <td>...</td>\n",
       "      <td>...</td>\n",
       "      <td>...</td>\n",
       "      <td>...</td>\n",
       "      <td>...</td>\n",
       "    </tr>\n",
       "    <tr>\n",
       "      <th>285</th>\n",
       "      <td>KERUPUK SEBLAK MENTAH RANTAI/TARAJE/TANGGA/JAR...</td>\n",
       "      <td>Rp100.500</td>\n",
       "      <td>BuahCandu</td>\n",
       "      <td>Jakarta Pusat</td>\n",
       "      <td>Tidak Tersedia</td>\n",
       "      <td>Tidak Tersedia</td>\n",
       "    </tr>\n",
       "    <tr>\n",
       "      <th>286</th>\n",
       "      <td>Makaroni kilo cikruh seblak pedas cemilan makr...</td>\n",
       "      <td>Rp6.000</td>\n",
       "      <td>OzFood</td>\n",
       "      <td>Kab.Ciamis</td>\n",
       "      <td>Tidak Tersedia</td>\n",
       "      <td>Tidak Tersedia</td>\n",
       "    </tr>\n",
       "    <tr>\n",
       "      <th>287</th>\n",
       "      <td>paket jualan baso aci mix seblak 11pcs</td>\n",
       "      <td>Rp42.999</td>\n",
       "      <td>TigoSadulur</td>\n",
       "      <td>Kab. Tangerang</td>\n",
       "      <td>7 terjual</td>\n",
       "      <td>5.0</td>\n",
       "    </tr>\n",
       "    <tr>\n",
       "      <th>288</th>\n",
       "      <td>Kerupuk Bawang Seblak 4,5 kg</td>\n",
       "      <td>Rp79.900</td>\n",
       "      <td>AJM Kaos Online</td>\n",
       "      <td>Tangerang Selatan</td>\n",
       "      <td>Tidak Tersedia</td>\n",
       "      <td>Tidak Tersedia</td>\n",
       "    </tr>\n",
       "    <tr>\n",
       "      <th>289</th>\n",
       "      <td>KERUPUK JABLAY KERIPIK JABLAY PEDAS KERUPUK SE...</td>\n",
       "      <td>Rp16.500</td>\n",
       "      <td>Caviarwear</td>\n",
       "      <td>Kab. Tangerang</td>\n",
       "      <td>4 terjual</td>\n",
       "      <td>4.0</td>\n",
       "    </tr>\n",
       "  </tbody>\n",
       "</table>\n",
       "<p>194 rows × 6 columns</p>\n",
       "</div>"
      ],
      "text/plain": [
       "                                           Nama Produk Harga Produk  \\\n",
       "0    Kerupuk seblak kering 500 gram extra pedas /se...     Rp24.700   \n",
       "1    Seblak Instan Bang Satria Kemasan PremiumDeskr...     Rp21.250   \n",
       "2    Kerupuk Seblak Rafael Pedas / Seblak Mawar Ped...     Rp16.000   \n",
       "3                      SEBLAK INSTAN MOMMY - Rica-Rica     Rp13.900   \n",
       "4          krupuk lidah campuran seblak dan bakso kuah     Rp20.000   \n",
       "..                                                 ...          ...   \n",
       "285  KERUPUK SEBLAK MENTAH RANTAI/TARAJE/TANGGA/JAR...    Rp100.500   \n",
       "286  Makaroni kilo cikruh seblak pedas cemilan makr...      Rp6.000   \n",
       "287             paket jualan baso aci mix seblak 11pcs     Rp42.999   \n",
       "288                       Kerupuk Bawang Seblak 4,5 kg     Rp79.900   \n",
       "289  KERUPUK JABLAY KERIPIK JABLAY PEDAS KERUPUK SE...     Rp16.500   \n",
       "\n",
       "                 Penjual       Kota Penjual         Terjual          Rating  \n",
       "0           oyun kriukzz      Jakarta Barat     40+ terjual             4.8  \n",
       "1    Pusat Pajamas Tasik        Tasikmalaya  Tidak Tersedia  Tidak Tersedia  \n",
       "2        DUO BOCIL SNACK              Depok    250+ terjual             4.9  \n",
       "3       Rav Jaya Display     Kab. Tangerang    1rb+ terjual             4.8  \n",
       "4             boisfrozen    Kab. Majalengka  Tidak Tersedia  Tidak Tersedia  \n",
       "..                   ...                ...             ...             ...  \n",
       "285            BuahCandu      Jakarta Pusat  Tidak Tersedia  Tidak Tersedia  \n",
       "286               OzFood         Kab.Ciamis  Tidak Tersedia  Tidak Tersedia  \n",
       "287          TigoSadulur     Kab. Tangerang       7 terjual             5.0  \n",
       "288      AJM Kaos Online  Tangerang Selatan  Tidak Tersedia  Tidak Tersedia  \n",
       "289           Caviarwear     Kab. Tangerang       4 terjual             4.0  \n",
       "\n",
       "[194 rows x 6 columns]"
      ]
     },
     "execution_count": 12,
     "metadata": {},
     "output_type": "execute_result"
    }
   ],
   "source": [
    "# Menghilangkan data duplikat\n",
    "Dataset.drop_duplicates()"
   ]
  },
  {
   "cell_type": "markdown",
   "metadata": {},
   "source": [
    "Menampilkan data frame yang sudah tidak memiliki data duplikat dan akan melakukan proses selanjutnya "
   ]
  },
  {
   "cell_type": "markdown",
   "metadata": {},
   "source": [
    "**Melakukan penyesuain kolom \"Harga Produk\"**"
   ]
  },
  {
   "cell_type": "code",
   "execution_count": 13,
   "metadata": {},
   "outputs": [],
   "source": [
    "# Menghapus \"Rp\" dari kolom \"Harga Produk\"\n",
    "Dataset['Harga Produk'] = Dataset['Harga Produk'].str.replace('Rp', '')\n"
   ]
  },
  {
   "cell_type": "code",
   "execution_count": 14,
   "metadata": {},
   "outputs": [
    {
     "name": "stderr",
     "output_type": "stream",
     "text": [
      "C:\\Users\\62811\\AppData\\Local\\Temp\\ipykernel_37448\\2335802392.py:2: FutureWarning: The default value of regex will change from True to False in a future version. In addition, single character regular expressions will *not* be treated as literal strings when regex=True.\n",
      "  Dataset['Harga Produk'] = Dataset['Harga Produk'].str.replace('.', \"\")\n"
     ]
    }
   ],
   "source": [
    "# Menghapus \".\" dari kolom \"Harga Produk\"\n",
    "Dataset['Harga Produk'] = Dataset['Harga Produk'].str.replace('.', \"\")"
   ]
  },
  {
   "cell_type": "code",
   "execution_count": 15,
   "metadata": {},
   "outputs": [],
   "source": [
    "# Merubah kolom \"Harga Produk\" menjadi tipe data float\n",
    "Dataset['Harga Produk'] = Dataset['Harga Produk'].astype(float)"
   ]
  },
  {
   "cell_type": "markdown",
   "metadata": {},
   "source": [
    "**Melakukan penyesuain kolom \"Terjual\"**"
   ]
  },
  {
   "cell_type": "code",
   "execution_count": 16,
   "metadata": {},
   "outputs": [],
   "source": [
    "# Menghapus 'terjual', '+', 'rb', dan '000' dari kolom \"Terjual\"\n",
    "Dataset['Terjual'] = Dataset['Terjual'].str.replace('terjual', '')"
   ]
  },
  {
   "cell_type": "code",
   "execution_count": 17,
   "metadata": {},
   "outputs": [
    {
     "name": "stderr",
     "output_type": "stream",
     "text": [
      "C:\\Users\\62811\\AppData\\Local\\Temp\\ipykernel_37448\\3418626671.py:2: FutureWarning: The default value of regex will change from True to False in a future version. In addition, single character regular expressions will *not* be treated as literal strings when regex=True.\n",
      "  Dataset['Terjual'] = Dataset['Terjual'].str.replace('+', '')\n"
     ]
    }
   ],
   "source": [
    "# Menghapus '+', 'rb' dari kolom \"Terjual\"\n",
    "Dataset['Terjual'] = Dataset['Terjual'].str.replace('+', '')"
   ]
  },
  {
   "cell_type": "code",
   "execution_count": 18,
   "metadata": {},
   "outputs": [],
   "source": [
    "# Menghapus 'rb'dari kolom \"Terjual\"\n",
    "Dataset['Terjual'] = Dataset['Terjual'].str.replace('rb', '000')"
   ]
  },
  {
   "cell_type": "code",
   "execution_count": 19,
   "metadata": {},
   "outputs": [],
   "source": [
    "# Menghapus 'Tidak Tersedia' menjadi '0' dari kolom \"Terjual\"\n",
    "Dataset['Terjual'] = Dataset['Terjual'].str.replace('Tidak Tersedia', '0')"
   ]
  },
  {
   "cell_type": "code",
   "execution_count": 20,
   "metadata": {},
   "outputs": [],
   "source": [
    "# Menghapus 'None' menjadi '0' dari kolom Terjual\n",
    "Dataset['Terjual'] = Dataset['Terjual'].str.replace('None', '0')"
   ]
  },
  {
   "cell_type": "code",
   "execution_count": 21,
   "metadata": {},
   "outputs": [],
   "source": [
    "# Merubah tipe data kolom \"Terjual\" menjadi integer\n",
    "Dataset['Terjual'] = Dataset['Terjual'].astype(int)"
   ]
  },
  {
   "cell_type": "markdown",
   "metadata": {},
   "source": [
    "**Melakukan penyesuain kolom \"Rating\"**"
   ]
  },
  {
   "cell_type": "code",
   "execution_count": 22,
   "metadata": {},
   "outputs": [],
   "source": [
    "# Menghapus 'None' menjadi '0' dari kolom \"Rating\"\n",
    "Dataset['Rating'] = Dataset['Rating'].str.replace('None', '0')"
   ]
  },
  {
   "cell_type": "code",
   "execution_count": 23,
   "metadata": {},
   "outputs": [],
   "source": [
    "# Menghapus 'Tidak Tersedia' menjadi '0' dari kolom \"Rating\"\n",
    "Dataset['Rating'] = Dataset['Rating'].str.replace('Tidak Tersedia', '0')"
   ]
  },
  {
   "cell_type": "code",
   "execution_count": 24,
   "metadata": {},
   "outputs": [],
   "source": [
    "# Merubah kolom \"Rating\" menjadi tipe data float\n",
    "Dataset['Rating'] = Dataset['Rating'].astype(float)"
   ]
  },
  {
   "cell_type": "code",
   "execution_count": 25,
   "metadata": {},
   "outputs": [],
   "source": [
    "# Membuat kolom baru \"Pendapatan\"\n",
    "Dataset['Pendapatan'] = Dataset['Terjual'] * Dataset['Harga Produk']"
   ]
  },
  {
   "cell_type": "code",
   "execution_count": 26,
   "metadata": {},
   "outputs": [
    {
     "name": "stdout",
     "output_type": "stream",
     "text": [
      "<class 'pandas.core.frame.DataFrame'>\n",
      "RangeIndex: 290 entries, 0 to 289\n",
      "Data columns (total 7 columns):\n",
      " #   Column        Non-Null Count  Dtype  \n",
      "---  ------        --------------  -----  \n",
      " 0   Nama Produk   290 non-null    object \n",
      " 1   Harga Produk  290 non-null    float64\n",
      " 2   Penjual       290 non-null    object \n",
      " 3   Kota Penjual  290 non-null    object \n",
      " 4   Terjual       290 non-null    int32  \n",
      " 5   Rating        290 non-null    float64\n",
      " 6   Pendapatan    290 non-null    float64\n",
      "dtypes: float64(3), int32(1), object(3)\n",
      "memory usage: 14.9+ KB\n"
     ]
    }
   ],
   "source": [
    "# Mengecek kembali tipe data yang sudah dirubah\n",
    "Dataset.info()"
   ]
  },
  {
   "cell_type": "markdown",
   "metadata": {},
   "source": [
    "Dari data diatas kita sudah berhasil melakukan perubahan tipe data `Harga Produk`, `Terjual`, `Rating` dan menambahkan kolom `Pendapatan` yang tujuan akan memudahkan kita untuk melakukan analisis data"
   ]
  },
  {
   "cell_type": "code",
   "execution_count": 27,
   "metadata": {},
   "outputs": [
    {
     "data": {
      "text/html": [
       "<div>\n",
       "<style scoped>\n",
       "    .dataframe tbody tr th:only-of-type {\n",
       "        vertical-align: middle;\n",
       "    }\n",
       "\n",
       "    .dataframe tbody tr th {\n",
       "        vertical-align: top;\n",
       "    }\n",
       "\n",
       "    .dataframe thead th {\n",
       "        text-align: right;\n",
       "    }\n",
       "</style>\n",
       "<table border=\"1\" class=\"dataframe\">\n",
       "  <thead>\n",
       "    <tr style=\"text-align: right;\">\n",
       "      <th></th>\n",
       "      <th>Nama Produk</th>\n",
       "      <th>Harga Produk</th>\n",
       "      <th>Penjual</th>\n",
       "      <th>Kota Penjual</th>\n",
       "      <th>Terjual</th>\n",
       "      <th>Rating</th>\n",
       "      <th>Pendapatan</th>\n",
       "    </tr>\n",
       "  </thead>\n",
       "  <tbody>\n",
       "    <tr>\n",
       "      <th>0</th>\n",
       "      <td>Kerupuk seblak kering 500 gram extra pedas /se...</td>\n",
       "      <td>24700.0</td>\n",
       "      <td>oyun kriukzz</td>\n",
       "      <td>Jakarta Barat</td>\n",
       "      <td>40</td>\n",
       "      <td>4.8</td>\n",
       "      <td>988000.0</td>\n",
       "    </tr>\n",
       "    <tr>\n",
       "      <th>1</th>\n",
       "      <td>Seblak Instan Bang Satria Kemasan PremiumDeskr...</td>\n",
       "      <td>21250.0</td>\n",
       "      <td>Pusat Pajamas Tasik</td>\n",
       "      <td>Tasikmalaya</td>\n",
       "      <td>0</td>\n",
       "      <td>0.0</td>\n",
       "      <td>0.0</td>\n",
       "    </tr>\n",
       "    <tr>\n",
       "      <th>2</th>\n",
       "      <td>Kerupuk Seblak Rafael Pedas / Seblak Mawar Ped...</td>\n",
       "      <td>16000.0</td>\n",
       "      <td>DUO BOCIL SNACK</td>\n",
       "      <td>Depok</td>\n",
       "      <td>250</td>\n",
       "      <td>4.9</td>\n",
       "      <td>4000000.0</td>\n",
       "    </tr>\n",
       "    <tr>\n",
       "      <th>3</th>\n",
       "      <td>SEBLAK INSTAN MOMMY - Rica-Rica</td>\n",
       "      <td>13900.0</td>\n",
       "      <td>Rav Jaya Display</td>\n",
       "      <td>Kab. Tangerang</td>\n",
       "      <td>1000</td>\n",
       "      <td>4.8</td>\n",
       "      <td>13900000.0</td>\n",
       "    </tr>\n",
       "    <tr>\n",
       "      <th>4</th>\n",
       "      <td>krupuk lidah campuran seblak dan bakso kuah</td>\n",
       "      <td>20000.0</td>\n",
       "      <td>boisfrozen</td>\n",
       "      <td>Kab. Majalengka</td>\n",
       "      <td>0</td>\n",
       "      <td>0.0</td>\n",
       "      <td>0.0</td>\n",
       "    </tr>\n",
       "    <tr>\n",
       "      <th>...</th>\n",
       "      <td>...</td>\n",
       "      <td>...</td>\n",
       "      <td>...</td>\n",
       "      <td>...</td>\n",
       "      <td>...</td>\n",
       "      <td>...</td>\n",
       "      <td>...</td>\n",
       "    </tr>\n",
       "    <tr>\n",
       "      <th>285</th>\n",
       "      <td>KERUPUK SEBLAK MENTAH RANTAI/TARAJE/TANGGA/JAR...</td>\n",
       "      <td>100500.0</td>\n",
       "      <td>BuahCandu</td>\n",
       "      <td>Jakarta Pusat</td>\n",
       "      <td>0</td>\n",
       "      <td>0.0</td>\n",
       "      <td>0.0</td>\n",
       "    </tr>\n",
       "    <tr>\n",
       "      <th>286</th>\n",
       "      <td>Makaroni kilo cikruh seblak pedas cemilan makr...</td>\n",
       "      <td>6000.0</td>\n",
       "      <td>OzFood</td>\n",
       "      <td>Kab.Ciamis</td>\n",
       "      <td>0</td>\n",
       "      <td>0.0</td>\n",
       "      <td>0.0</td>\n",
       "    </tr>\n",
       "    <tr>\n",
       "      <th>287</th>\n",
       "      <td>paket jualan baso aci mix seblak 11pcs</td>\n",
       "      <td>42999.0</td>\n",
       "      <td>TigoSadulur</td>\n",
       "      <td>Kab. Tangerang</td>\n",
       "      <td>7</td>\n",
       "      <td>5.0</td>\n",
       "      <td>300993.0</td>\n",
       "    </tr>\n",
       "    <tr>\n",
       "      <th>288</th>\n",
       "      <td>Kerupuk Bawang Seblak 4,5 kg</td>\n",
       "      <td>79900.0</td>\n",
       "      <td>AJM Kaos Online</td>\n",
       "      <td>Tangerang Selatan</td>\n",
       "      <td>0</td>\n",
       "      <td>0.0</td>\n",
       "      <td>0.0</td>\n",
       "    </tr>\n",
       "    <tr>\n",
       "      <th>289</th>\n",
       "      <td>KERUPUK JABLAY KERIPIK JABLAY PEDAS KERUPUK SE...</td>\n",
       "      <td>16500.0</td>\n",
       "      <td>Caviarwear</td>\n",
       "      <td>Kab. Tangerang</td>\n",
       "      <td>4</td>\n",
       "      <td>4.0</td>\n",
       "      <td>66000.0</td>\n",
       "    </tr>\n",
       "  </tbody>\n",
       "</table>\n",
       "<p>290 rows × 7 columns</p>\n",
       "</div>"
      ],
      "text/plain": [
       "                                           Nama Produk  Harga Produk  \\\n",
       "0    Kerupuk seblak kering 500 gram extra pedas /se...       24700.0   \n",
       "1    Seblak Instan Bang Satria Kemasan PremiumDeskr...       21250.0   \n",
       "2    Kerupuk Seblak Rafael Pedas / Seblak Mawar Ped...       16000.0   \n",
       "3                      SEBLAK INSTAN MOMMY - Rica-Rica       13900.0   \n",
       "4          krupuk lidah campuran seblak dan bakso kuah       20000.0   \n",
       "..                                                 ...           ...   \n",
       "285  KERUPUK SEBLAK MENTAH RANTAI/TARAJE/TANGGA/JAR...      100500.0   \n",
       "286  Makaroni kilo cikruh seblak pedas cemilan makr...        6000.0   \n",
       "287             paket jualan baso aci mix seblak 11pcs       42999.0   \n",
       "288                       Kerupuk Bawang Seblak 4,5 kg       79900.0   \n",
       "289  KERUPUK JABLAY KERIPIK JABLAY PEDAS KERUPUK SE...       16500.0   \n",
       "\n",
       "                 Penjual       Kota Penjual  Terjual  Rating  Pendapatan  \n",
       "0           oyun kriukzz      Jakarta Barat       40     4.8    988000.0  \n",
       "1    Pusat Pajamas Tasik        Tasikmalaya        0     0.0         0.0  \n",
       "2        DUO BOCIL SNACK              Depok      250     4.9   4000000.0  \n",
       "3       Rav Jaya Display     Kab. Tangerang     1000     4.8  13900000.0  \n",
       "4             boisfrozen    Kab. Majalengka        0     0.0         0.0  \n",
       "..                   ...                ...      ...     ...         ...  \n",
       "285            BuahCandu      Jakarta Pusat        0     0.0         0.0  \n",
       "286               OzFood         Kab.Ciamis        0     0.0         0.0  \n",
       "287          TigoSadulur     Kab. Tangerang        7     5.0    300993.0  \n",
       "288      AJM Kaos Online  Tangerang Selatan        0     0.0         0.0  \n",
       "289           Caviarwear     Kab. Tangerang        4     4.0     66000.0  \n",
       "\n",
       "[290 rows x 7 columns]"
      ]
     },
     "execution_count": 27,
     "metadata": {},
     "output_type": "execute_result"
    }
   ],
   "source": [
    "# Menampilkan kembali dataframe\n",
    "Dataset"
   ]
  },
  {
   "cell_type": "markdown",
   "metadata": {},
   "source": [
    "**Kesimpulan** dari data cleaning adalah kita berhasil mengahapus, merubah, menambah kolom dan tipe-tipe data seperti:\n",
    "1. **Harga Produk**\n",
    "    - Menghapus \"Rp\", \".\" dan merubahnya menjadi tipe data float\n",
    "2. **Terjual**\n",
    "    - Menghapus \"terjual\", \"+\", \"rb\", \"Tidak Tersedia\" dan merubahnya menjadi tipe data integer   \n",
    "2. **Rating**\n",
    "    - Menghapus \"None\", \"Tidak Tersedia\" dan merubahnya menjadi tipe data float\n",
    "4. **Pendapatan**\n",
    "    - Dengan cara kolom (Terjual * Harga Produk)\n",
    "\n",
    "Setelah melakukan data cleaning diatas kita berhasilkan mendapatkan data yang kita inginkan untuk bisa melanjutkan proses selanjutnya yaitu analysis data :\n",
    "1. Melakukan business understanding/problem statement\n",
    "2. Membuat konsep `SMART` framework\n",
    "3. Mengecek measurement of central tendency\n",
    "4. Melakukan measurement of dispersion\n",
    "5. Melakukan uji kolerasi"
   ]
  },
  {
   "cell_type": "markdown",
   "metadata": {},
   "source": [
    "# Business Understanding"
   ]
  },
  {
   "cell_type": "markdown",
   "metadata": {},
   "source": [
    "**Problem Statement**\n",
    "Meningkatkan penjualan produk seblak dengan cara meningkatkan promosi produk dan memperbanyak produk yang paling banyak dimininati untuk meningkatkan pendapatan dari penjualan seblak\n",
    "\n",
    "**SMART** Framework :\n",
    "* S: Meningkatkan penjualan produk seblak dengan memperkenalkan varian baru dan meningkatkan kesadaran merek\n",
    "* M: Memperbanyak produk yang paling banyak di pesan dari 50% ke 70%\n",
    "* A: Memastikan kapasitas produksi cukup untuk memenuhi permintaan dan menambah produk yang paling banyak di pesan\n",
    "* R: Varian baru seblak harus sesuai dengan preferensi dan permintaan pasar lokal dan jika produk yang di pesan diperbanyak maka pendapatan penjualan seblak akan meningkat\n",
    "* T: Varian baru seblak harus diluncurkan dalam waktu tiga bulan lalu penjualan dan kampanye pemasaran harus dievaluasi setiap bulan untuk mengukur kemajuan dan melakukan penyesuaian jika diperlukan\n",
    "\n",
    "Dengan menggunakan **SMART** framework ini, kita dapat memiliki rencana yang terstruktur dan jelas untuk meningkatkan penjualan produk seblak dalam periode waktu yang ditentukan."
   ]
  },
  {
   "cell_type": "code",
   "execution_count": 28,
   "metadata": {},
   "outputs": [
    {
     "name": "stdout",
     "output_type": "stream",
     "text": [
      "Mean: 36432.6724137931\n",
      "Median: 17999.0\n",
      "Modus: 0    16000.0\n",
      "Name: Harga Produk, dtype: float64\n"
     ]
    }
   ],
   "source": [
    "# Menampilkan nilai rata-rata dari kolom \"Harga Produk\"\n",
    "print(f\"Mean: {Dataset['Harga Produk'].mean()}\")\n",
    "# Menampilkan nilai tengah dari kolom \"Harga Produk\"\n",
    "print(f\"Median: {Dataset['Harga Produk'].median()}\")\n",
    "# Menampilkan nilai yang sering muncul dari kolom \"Harga Produk\"\n",
    "print(f\"Modus: {Dataset['Harga Produk'].mode()}\")"
   ]
  },
  {
   "cell_type": "code",
   "execution_count": 29,
   "metadata": {},
   "outputs": [
    {
     "name": "stdout",
     "output_type": "stream",
     "text": [
      "Standar_deviasi: 177329.67935563758\n",
      "Skewness: 16.280066999859745\n",
      "Kurtosis: 272.57426873449833\n"
     ]
    }
   ],
   "source": [
    "# Menghitung standar deviasi dari sebuah kolom \"Harga Produk\"\n",
    "print(f\"Standar_deviasi: {Dataset['Harga Produk'].std()}\")\n",
    "# Menghitung nilai kemiringan (skewness) dari sebuah kolom \"Harga Produk\" dalam dataframe Dataset\n",
    "print(f\"Skewness: {Dataset['Harga Produk'].skew()}\")\n",
    "# Menghitung kurtosis dari kolom \"Harga Produk\" dalam dataframe Dataset\n",
    "print(f\"Kurtosis: {Dataset['Harga Produk'].kurtosis()}\")"
   ]
  },
  {
   "cell_type": "markdown",
   "metadata": {},
   "source": [
    "**Kesimpulan** dari data diatas adalah:\n",
    "* Harga rata-rata dari kolom \"Harga Produk\" : 33.262\n",
    "* Nilai tengah dari kolom \"Harga Produk\" : 17.000\n",
    "* Nilai yang sering muncul dari kolom \"Harga Produk\" : 18.500\n",
    "* Nilai standar deviasi dari kolom \"Harga Produk\" : 77.871 yang menandakan nilai tersebut tersebar dengan baik karena memiliki variasi yang lebih besar dari nilai rata-rata\n",
    "* Dengan nilai skewness sebesar 7.036636896256918, dapat disimpulkan bahwa distribusi data cenderung miring ke kanan (distribusi positif). Ini berarti bahwa ekor distribusi cenderung lebih panjang di sebelah kanan dari nilai rata-rata atau distribusi normal.\n",
    "* Dengan nilai kurtosis sebesar 52.84265986784295, dapat disimpulkan nilai ini menunjukkan bahwa distribusi data Anda memiliki puncak yang sangat tajam dan ekor yang sangat panjang. Bahwa data kita mungkin memiliki banyak outlier atau distribusi yang sangat tidak normal. "
   ]
  },
  {
   "cell_type": "code",
   "execution_count": 30,
   "metadata": {},
   "outputs": [
    {
     "name": "stdout",
     "output_type": "stream",
     "text": [
      "Mean: 251.0448275862069\n",
      "Median: 50.0\n",
      "Modus: 0    100\n",
      "Name: Terjual, dtype: int32\n"
     ]
    }
   ],
   "source": [
    "# Menampilkan nilai rata-rata dari kolom \"Terjual\"\n",
    "print(f\"Mean: {Dataset['Terjual'].mean()}\")\n",
    "# Menampilkan nilai tengah dari kolom \"Terjual\"\n",
    "print(f\"Median: {Dataset['Terjual'].median()}\")\n",
    "# Menampilkan nilai yang sering muncul dari kolom \"Terjual\"\n",
    "print(f\"Modus: {Dataset['Terjual'].mode()}\")"
   ]
  },
  {
   "cell_type": "code",
   "execution_count": 31,
   "metadata": {},
   "outputs": [
    {
     "name": "stdout",
     "output_type": "stream",
     "text": [
      "Standar_deviasi: 533.6445832538068\n",
      "Skewness: 3.6555023247817533\n",
      "Kurtosis: 15.150984729483667\n"
     ]
    }
   ],
   "source": [
    "# Menghitung standar deviasi dari sebuah kolom \"Terjual\"\n",
    "print(f\"Standar_deviasi: {Dataset['Terjual'].std()}\")\n",
    "# Menghitung nilai kemiringan (skewness) dari sebuah kolom \"Terjual\" dalam dataframe Dataset\n",
    "print(f\"Skewness: {Dataset['Terjual'].skew()}\")\n",
    "# Menghitung kurtosis dari kolom \"Terjual\" dalam dataframe Dataset\n",
    "print(f\"Kurtosis: {Dataset['Terjual'].kurtosis()}\")"
   ]
  },
  {
   "cell_type": "markdown",
   "metadata": {},
   "source": [
    "**Kesimpulan** dari data diatas adalah:\n",
    "* Nilai rata-rata dari kolom \"Terjual\" : 439\n",
    "* Nilai tengah dari kolom \"Terjual\" : 50\n",
    "* Nilai yang sering muncul dari kolom \"Terjual\" : 100\n",
    "* Nilai standar deviasi dari kolom \"Terjual\" : 1409 yang menandakan nilai tersebut tersebar denga baik karena memiliki variasi yang lebih besar dari nilai rata-rata\n",
    "* Dengan nilai skewness sebesar 5.658093823805378, karena nilainya positif ini menunjukkan bahwa distribusi data cenderung condong ke kanan. Dengan kata lain, ekor distribusi data mungkin lebih panjang di sebelah kanan dari nilai rata-rata (mean), sementara sebagian besar data berkumpul di sebelah kiri dari nilai rata-rata. Distribusi ini sangat tidak normal dan sangat skewed ke kanan.\n",
    "* Dengan nilai kurtosis sebesar 34.81966492054993, dapat disimpulkan nilai tersebut menunjukkan bahwa distribusi data memiliki puncak yang sangat tajam dan ekor yang sangat panjang. Ini menunjukkan bahwa data cenderung sangat terkonsentrasi di sekitar nilai rata-rata dengan sedikit variasi di sekitar ekstrem. Dari angka diatas menunjukkan distribusi tidak normal."
   ]
  },
  {
   "cell_type": "code",
   "execution_count": 32,
   "metadata": {},
   "outputs": [
    {
     "name": "stdout",
     "output_type": "stream",
     "text": [
      "Mean: 3.9106896551724097\n",
      "Median: 4.9\n",
      "Modus: 0    5.0\n",
      "Name: Rating, dtype: float64\n"
     ]
    }
   ],
   "source": [
    "# Menampilkan nilai rata-rata dari kolom \"Rating\"\n",
    "print(f\"Mean: {Dataset['Rating'].mean()}\")\n",
    "# Menampilkan nilai tengah dari kolom \"Rating\"\n",
    "print(f\"Median: {Dataset['Rating'].median()}\")\n",
    "# Menampilkan nilai yang sering muncul dari kolom \"Rating\"\n",
    "print(f\"Modus: {Dataset['Rating'].mode()}\")"
   ]
  },
  {
   "cell_type": "code",
   "execution_count": 33,
   "metadata": {},
   "outputs": [
    {
     "name": "stdout",
     "output_type": "stream",
     "text": [
      "Standar_deviasi: 1.9428663429418422\n",
      "Skewness: -1.5158123451454932\n",
      "Kurtosis: 0.3286749181296411\n"
     ]
    }
   ],
   "source": [
    "# Menghitung standar deviasi dari sebuah kolom \"Rating\"\n",
    "print(f\"Standar_deviasi: {Dataset['Rating'].std()}\")\n",
    "# Menghitung nilai kemiringan (skewness) dari sebuah kolom \"Rating\" dalam dataframe Dataset\n",
    "print(f\"Skewness: {Dataset['Rating'].skew()}\")\n",
    "# Menghitung kurtosis dari kolom \"Rating\" dalam dataframe Dataset\n",
    "print(f\"Kurtosis: {Dataset['Rating'].kurtosis()}\")"
   ]
  },
  {
   "cell_type": "markdown",
   "metadata": {},
   "source": [
    "**Kesimpulan** dari data diatas adalah: \n",
    "* Nilai rata-rata dari kolom \"Rating\" : 4.07\n",
    "* Nilai tengah dari kolom \"Rating\" : 4.9\n",
    "* Nilai yang sering muncul dari kolom \"Rating\" : 5.0\n",
    "* Nilai standar deviasi dari kolom \"Rating\" : 1.8220035820101057, dapat disimpulkan nilai std tersebut bervariasi sekitar 1.82 poin dari rata-rata nilai rating produk\n",
    "* Dengan nilai skewness sebesar -1.786161347474293, nilai skewness negatif yang cukup besar. Ini berarti distribusi data sangat miring ke kiri. Hal ini menunjukkan bahwa data memiliki ekor kiri yang panjang atau data memiliki banyak nilai rendah yang ekstrim dibandingkan dengan nilai tinggi. Dari angka diatas menunjukkan distribusi tidak normal.\n",
    "* Dengan nilai kurtosis sebesar 1.2347379412164234, dapat disimpulkan nilai tersebut menunjukkan distribusi data yang sangat asimetris dengan ekor panjang di sisi kanan. Ini berarti bahwa sebagian besar data berada di sisi kiri distribusi, namun ada beberapa nilai yang sangat tinggi yang menyebabkan ekor distribusi memanjang ke kanan. Distribusi data diatas tidak normal dan cenderung lebih datar dibandingkan dengan distribusi normal."
   ]
  },
  {
   "cell_type": "code",
   "execution_count": 34,
   "metadata": {},
   "outputs": [
    {
     "data": {
      "text/html": [
       "<div>\n",
       "<style scoped>\n",
       "    .dataframe tbody tr th:only-of-type {\n",
       "        vertical-align: middle;\n",
       "    }\n",
       "\n",
       "    .dataframe tbody tr th {\n",
       "        vertical-align: top;\n",
       "    }\n",
       "\n",
       "    .dataframe thead th {\n",
       "        text-align: right;\n",
       "    }\n",
       "</style>\n",
       "<table border=\"1\" class=\"dataframe\">\n",
       "  <thead>\n",
       "    <tr style=\"text-align: right;\">\n",
       "      <th></th>\n",
       "      <th>Nama Produk</th>\n",
       "      <th>Harga Produk</th>\n",
       "      <th>Penjual</th>\n",
       "      <th>Kota Penjual</th>\n",
       "      <th>Terjual</th>\n",
       "      <th>Rating</th>\n",
       "      <th>Pendapatan</th>\n",
       "    </tr>\n",
       "  </thead>\n",
       "  <tbody>\n",
       "    <tr>\n",
       "      <th>0</th>\n",
       "      <td>Kerupuk seblak kering 500 gram extra pedas /se...</td>\n",
       "      <td>24700.0</td>\n",
       "      <td>oyun kriukzz</td>\n",
       "      <td>Jakarta Barat</td>\n",
       "      <td>40</td>\n",
       "      <td>4.8</td>\n",
       "      <td>988000.0</td>\n",
       "    </tr>\n",
       "    <tr>\n",
       "      <th>1</th>\n",
       "      <td>Seblak Instan Bang Satria Kemasan PremiumDeskr...</td>\n",
       "      <td>21250.0</td>\n",
       "      <td>Pusat Pajamas Tasik</td>\n",
       "      <td>Tasikmalaya</td>\n",
       "      <td>0</td>\n",
       "      <td>0.0</td>\n",
       "      <td>0.0</td>\n",
       "    </tr>\n",
       "    <tr>\n",
       "      <th>2</th>\n",
       "      <td>Kerupuk Seblak Rafael Pedas / Seblak Mawar Ped...</td>\n",
       "      <td>16000.0</td>\n",
       "      <td>DUO BOCIL SNACK</td>\n",
       "      <td>Depok</td>\n",
       "      <td>250</td>\n",
       "      <td>4.9</td>\n",
       "      <td>4000000.0</td>\n",
       "    </tr>\n",
       "    <tr>\n",
       "      <th>3</th>\n",
       "      <td>SEBLAK INSTAN MOMMY - Rica-Rica</td>\n",
       "      <td>13900.0</td>\n",
       "      <td>Rav Jaya Display</td>\n",
       "      <td>Kab. Tangerang</td>\n",
       "      <td>1000</td>\n",
       "      <td>4.8</td>\n",
       "      <td>13900000.0</td>\n",
       "    </tr>\n",
       "    <tr>\n",
       "      <th>4</th>\n",
       "      <td>krupuk lidah campuran seblak dan bakso kuah</td>\n",
       "      <td>20000.0</td>\n",
       "      <td>boisfrozen</td>\n",
       "      <td>Kab. Majalengka</td>\n",
       "      <td>0</td>\n",
       "      <td>0.0</td>\n",
       "      <td>0.0</td>\n",
       "    </tr>\n",
       "    <tr>\n",
       "      <th>...</th>\n",
       "      <td>...</td>\n",
       "      <td>...</td>\n",
       "      <td>...</td>\n",
       "      <td>...</td>\n",
       "      <td>...</td>\n",
       "      <td>...</td>\n",
       "      <td>...</td>\n",
       "    </tr>\n",
       "    <tr>\n",
       "      <th>285</th>\n",
       "      <td>KERUPUK SEBLAK MENTAH RANTAI/TARAJE/TANGGA/JAR...</td>\n",
       "      <td>100500.0</td>\n",
       "      <td>BuahCandu</td>\n",
       "      <td>Jakarta Pusat</td>\n",
       "      <td>0</td>\n",
       "      <td>0.0</td>\n",
       "      <td>0.0</td>\n",
       "    </tr>\n",
       "    <tr>\n",
       "      <th>286</th>\n",
       "      <td>Makaroni kilo cikruh seblak pedas cemilan makr...</td>\n",
       "      <td>6000.0</td>\n",
       "      <td>OzFood</td>\n",
       "      <td>Kab.Ciamis</td>\n",
       "      <td>0</td>\n",
       "      <td>0.0</td>\n",
       "      <td>0.0</td>\n",
       "    </tr>\n",
       "    <tr>\n",
       "      <th>287</th>\n",
       "      <td>paket jualan baso aci mix seblak 11pcs</td>\n",
       "      <td>42999.0</td>\n",
       "      <td>TigoSadulur</td>\n",
       "      <td>Kab. Tangerang</td>\n",
       "      <td>7</td>\n",
       "      <td>5.0</td>\n",
       "      <td>300993.0</td>\n",
       "    </tr>\n",
       "    <tr>\n",
       "      <th>288</th>\n",
       "      <td>Kerupuk Bawang Seblak 4,5 kg</td>\n",
       "      <td>79900.0</td>\n",
       "      <td>AJM Kaos Online</td>\n",
       "      <td>Tangerang Selatan</td>\n",
       "      <td>0</td>\n",
       "      <td>0.0</td>\n",
       "      <td>0.0</td>\n",
       "    </tr>\n",
       "    <tr>\n",
       "      <th>289</th>\n",
       "      <td>KERUPUK JABLAY KERIPIK JABLAY PEDAS KERUPUK SE...</td>\n",
       "      <td>16500.0</td>\n",
       "      <td>Caviarwear</td>\n",
       "      <td>Kab. Tangerang</td>\n",
       "      <td>4</td>\n",
       "      <td>4.0</td>\n",
       "      <td>66000.0</td>\n",
       "    </tr>\n",
       "  </tbody>\n",
       "</table>\n",
       "<p>290 rows × 7 columns</p>\n",
       "</div>"
      ],
      "text/plain": [
       "                                           Nama Produk  Harga Produk  \\\n",
       "0    Kerupuk seblak kering 500 gram extra pedas /se...       24700.0   \n",
       "1    Seblak Instan Bang Satria Kemasan PremiumDeskr...       21250.0   \n",
       "2    Kerupuk Seblak Rafael Pedas / Seblak Mawar Ped...       16000.0   \n",
       "3                      SEBLAK INSTAN MOMMY - Rica-Rica       13900.0   \n",
       "4          krupuk lidah campuran seblak dan bakso kuah       20000.0   \n",
       "..                                                 ...           ...   \n",
       "285  KERUPUK SEBLAK MENTAH RANTAI/TARAJE/TANGGA/JAR...      100500.0   \n",
       "286  Makaroni kilo cikruh seblak pedas cemilan makr...        6000.0   \n",
       "287             paket jualan baso aci mix seblak 11pcs       42999.0   \n",
       "288                       Kerupuk Bawang Seblak 4,5 kg       79900.0   \n",
       "289  KERUPUK JABLAY KERIPIK JABLAY PEDAS KERUPUK SE...       16500.0   \n",
       "\n",
       "                 Penjual       Kota Penjual  Terjual  Rating  Pendapatan  \n",
       "0           oyun kriukzz      Jakarta Barat       40     4.8    988000.0  \n",
       "1    Pusat Pajamas Tasik        Tasikmalaya        0     0.0         0.0  \n",
       "2        DUO BOCIL SNACK              Depok      250     4.9   4000000.0  \n",
       "3       Rav Jaya Display     Kab. Tangerang     1000     4.8  13900000.0  \n",
       "4             boisfrozen    Kab. Majalengka        0     0.0         0.0  \n",
       "..                   ...                ...      ...     ...         ...  \n",
       "285            BuahCandu      Jakarta Pusat        0     0.0         0.0  \n",
       "286               OzFood         Kab.Ciamis        0     0.0         0.0  \n",
       "287          TigoSadulur     Kab. Tangerang        7     5.0    300993.0  \n",
       "288      AJM Kaos Online  Tangerang Selatan        0     0.0         0.0  \n",
       "289           Caviarwear     Kab. Tangerang        4     4.0     66000.0  \n",
       "\n",
       "[290 rows x 7 columns]"
      ]
     },
     "execution_count": 34,
     "metadata": {},
     "output_type": "execute_result"
    }
   ],
   "source": [
    "# Menampilkan kembali\n",
    "Dataset"
   ]
  },
  {
   "cell_type": "code",
   "execution_count": 35,
   "metadata": {},
   "outputs": [],
   "source": [
    "# Import modul untuk melakukan uji kolerasi dan mencari p-value\n",
    "from scipy import stats\n",
    "import numpy as np"
   ]
  },
  {
   "cell_type": "code",
   "execution_count": 36,
   "metadata": {},
   "outputs": [
    {
     "data": {
      "text/plain": [
       "array(['Jakarta Barat', 'Tasikmalaya', 'Depok', 'Kab. Tangerang',\n",
       "       'Kab. Majalengka', 'Tangerang Selatan', 'Kab. Bogor',\n",
       "       'Jakarta Pusat', 'Jakarta Selatan', 'Kab. Garut', 'Bandung',\n",
       "       'Denpasar', 'Jakarta Timur', 'Tangerang', 'Kab. Bandung',\n",
       "       'Surabaya', 'Kab. Sidoarjo', 'Kab. Bekasi', 'Bekasi', 'Semarang',\n",
       "       'Bogor', 'Jakarta Utara', 'Malang', 'Cimahi', 'Kab. Bantul',\n",
       "       'Kediri', 'Medan', 'Kab. Malang', 'Bandar Lampung', 'Yogyakarta',\n",
       "       'Kab. Bandung Barat', 'Kab. Cianjur', 'Kab. Purwakarta',\n",
       "       'Kab.Ciamis', 'Kab. Tasikmalaya', 'Kab. Kuningan', 'Kab. Badung',\n",
       "       'Kab. Kediri', 'Kab. Gresik', 'Kab. Sukoharjo',\n",
       "       'Kab. Deli Serdang'], dtype=object)"
      ]
     },
     "execution_count": 36,
     "metadata": {},
     "output_type": "execute_result"
    }
   ],
   "source": [
    "# Melihat nilai unik dari kolom \"Kota Penjual\"\n",
    "Dataset['Kota Penjual'].unique()"
   ]
  },
  {
   "cell_type": "code",
   "execution_count": 37,
   "metadata": {},
   "outputs": [
    {
     "name": "stdout",
     "output_type": "stream",
     "text": [
      "Interval kepercayaan 95% untuk Pendapatan:\n",
      "Pendapatan potensi minimum: 3532936.4829617837\n",
      "Pendapatan potensi maksimum: 5936943.344624424\n"
     ]
    }
   ],
   "source": [
    "# Menghitung standar deviasi dari kolom 'Pendapatan'\n",
    "std_dev = Dataset['Pendapatan'].std()\n",
    "\n",
    "# Menghitung jumlah data dalam kolom 'Pendapatan'\n",
    "data_count = Dataset['Pendapatan'].count()\n",
    "\n",
    "# Menghitung interval kepercayaan 95% menggunakan distribusi normal\n",
    "confidence_interval = stats.norm.interval(0.95, loc=Dataset['Pendapatan'].mean(), scale=std_dev/np.sqrt(data_count))\n",
    "\n",
    "# Menampilkan hasil\n",
    "print('Interval kepercayaan 95% untuk Pendapatan:')\n",
    "print('Pendapatan potensi minimum:', confidence_interval[0])\n",
    "print('Pendapatan potensi maksimum:', confidence_interval[1])"
   ]
  },
  {
   "cell_type": "code",
   "execution_count": 38,
   "metadata": {},
   "outputs": [
    {
     "name": "stdout",
     "output_type": "stream",
     "text": [
      "Perbedaan harga antara Jabodetabek dan non-Jabodetabek: 0.0\n"
     ]
    }
   ],
   "source": [
    "# Melihat perbedaan harga antara jabodetabek dan non jabodetabek\n",
    "jabodetabek = Dataset[Dataset['Kota Penjual'].str.contains('Jakarta|Bogor|Depok|Tangerang|Bekasi', regex=True, case=False)]\n",
    "non_jabodetabek = Dataset[Dataset['Kota Penjual'].str.contains('Jakarta|Bogor|Depok|Tangerang|Bekasi', regex=True, case=False)]\n",
    "\n",
    "# Menampilkan perbedaan harga antara Jabodetabek dan non-Jabodetabek\n",
    "Dataset1_difference = jabodetabek['Harga Produk'].mean() - non_jabodetabek['Harga Produk'].mean()\n",
    "print(\"Perbedaan harga antara Jabodetabek dan non-Jabodetabek:\", Dataset1_difference)"
   ]
  },
  {
   "cell_type": "code",
   "execution_count": 39,
   "metadata": {},
   "outputs": [
    {
     "name": "stdout",
     "output_type": "stream",
     "text": [
      "T-Statistic: 0.0\n",
      "P-value: 1.0\n"
     ]
    }
   ],
   "source": [
    "# Melakukan uji kolerasi antara Harga Produk jabodetabek dan non jabodetabek\n",
    "t_stat, p_val = stats.ttest_ind(jabodetabek['Harga Produk'], non_jabodetabek['Harga Produk'])\n",
    "\n",
    "# Menampilkan hasil uji t\n",
    "print('T-Statistic:',t_stat)\n",
    "print('P-value:',p_val) "
   ]
  },
  {
   "cell_type": "code",
   "execution_count": 40,
   "metadata": {},
   "outputs": [
    {
     "name": "stdout",
     "output_type": "stream",
     "text": [
      "r-correlation: -0.13, p-value: 0.024700631305921008\n"
     ]
    }
   ],
   "source": [
    "# Melakukan uji kolerasi antara \"Harga Produk\" dan \"Rating\"\n",
    "corr_r, pval_p = stats.pearsonr(Dataset['Harga Produk'], Dataset['Rating'])\n",
    "\n",
    "# Menampilkan hasil uji kolerasi\n",
    "print(f\"r-correlation: {corr_r:.2f}, p-value: {pval_p}\")"
   ]
  },
  {
   "cell_type": "markdown",
   "metadata": {},
   "source": [
    "**Kesimpulan** dari data diatas:\n",
    "1. - Pendapatan potensi minimum: 4490151.004592237 berarti bahwa dengan tingkat kepercayaan 95%, kami yakin bahwa rata-rata pendapatan dari penjualan seblak setidaknya sebesar 4490151.004592237. Dengan kata lain, jika Anda mengambil sampel acak dari produk terjual dan menghitung rata-rata pendapatan, maka 95% dari interval kepercayaan yang dihasilkan dari percobaan tersebut akan mencakup nilai minimum tersebut.\n",
    "\n",
    "    - Pendapatan potensi maksimal: 11580157.754028454 berarti bahwa dengan tingkat kepercayaan 95%, kami yakin bahwa rata-rata pendapatan dalam penjualan seblak paling banyak sebesar 11580157.754028454. Ini mengindikasikan batas atas dari perkiraan rata-rata pendapatan yang mungkin ditemui dengan 95% tingkat kepercayaan.\n",
    "2. - T-Statistic adalah 0.0, yang menunjukkan bahwa tidak ada perbedaan yang signifikan antara harga produk jabodetabek dan non jabodetabek dari data yang sudah di uji.\n",
    "\n",
    "    - P-value adalah 1.0, yang menunjukkan bahwa tidak ada cukup bukti untuk menolak hipotesis nol. Dengan kata lain, tidak ada perbedaan yang signifikan antara harga jabodetabek dan harga non jabodetabek dari data yang sudah di uji.\n",
    "3. - Nilai r-correlation -0.29 menunjukkan bahwa ada hubungan linier negatif yang sangat lemah antara 'harga produk' dan 'rating'. Ini berarti, secara umum, ketika harga produk meningkat, ratingnya cenderung sedikit menurun, dan sebaliknya. Namun, karena nilainya sangat dekat dengan 0, hubungan ini sangat lemah dan mungkin tidak signifikan secara praktis.\n",
    "\n",
    "    - Nilai p- value sebesar 5.644 kita dapat menyimpulkan bahwa perbedaan antara harga produk dan rating di wilayah Jabodetabek dan non-Jabodetabek adalah signifikan secara statistik. Oleh karena itu, dapat disimpulkan bahwa ada korelasi yang signifikan antara kedua variabel tersebut. Dan kalau berdasarkan data orang lebih suka seblak dengan rating tinggi daripada harga yang murah.\n"
   ]
  },
  {
   "cell_type": "markdown",
   "metadata": {},
   "source": [
    "# Conclusion"
   ]
  },
  {
   "cell_type": "markdown",
   "metadata": {},
   "source": [
    "Penjualan seblak di Tokopedia masih menunjukkan banyak produk yang belum terjual, sehingga pendapatan dari penjualan ini sangat minimum. Hal ini dapat disebabkan oleh preferensi konsumen yang cenderung memilih barang dengan rating tinggi daripada harga murah. Konsumen mungkin menganggap bahwa produk dengan harga murah memiliki kualitas yang kurang memuaskan atau kurang layak dibeli.\n",
    "\n",
    "Selain itu, penjualan seblak juga bervariasi antara wilayah Jabodetabek dan luar Jabodetabek. Perbedaan ini dapat disebabkan oleh variasi bahan baku yang digunakan dalam pembuatan produk, yang mempengaruhi selera dan preferensi konsumen di masing-masing wilayah. Oleh karena itu, strategi pemasaran dan penawaran produk perlu disesuaikan dengan karakteristik dan preferensi pasar di berbagai wilayah untuk meningkatkan penjualan dan pendapatan secara keseluruhan."
   ]
  },
  {
   "cell_type": "markdown",
   "metadata": {},
   "source": [
    "# Recomendation"
   ]
  },
  {
   "cell_type": "markdown",
   "metadata": {},
   "source": [
    "Untuk meningkatkan penjualan seblak di Tokopedia, berikut adalah beberapa rekomendasi yang dapat dipertimbangkan:\n",
    "\n",
    "1. **Meningkatkan Kualitas Produk dengan Harga Terjangkau:**\n",
    "   - Pastikan produk seblak yang dijual dengan harga murah memiliki kualitas yang mendekati atau setara dengan produk-produk berating tinggi. Fokus pada penggunaan bahan baku berkualitas dan proses produksi yang higienis untuk meningkatkan kepercayaan konsumen.\n",
    "   - Sertakan deskripsi produk yang jelas dan informatif serta ulasan dari pelanggan yang telah membeli untuk menekankan nilai produk tersebut.\n",
    "\n",
    "2. **Ekspansi Jaringan dan Cabang:**\n",
    "   - Pertimbangkan untuk membuka cabang di berbagai daerah strategis guna memperluas jangkauan pasar. Pilih daerah dengan potensi pasar yang tinggi dan perhatikan ketersediaan bahan baku lokal yang murah namun berkualitas.\n",
    "   - Analisis permintaan pasar di masing-masing daerah untuk menentukan lokasi cabang yang optimal dan mengurangi biaya logistik.\n",
    "\n",
    "3. **Strategi Promosi yang Efektif:**\n",
    "   - Perluas kegiatan promosi dengan memasang iklan menarik di berbagai platform, seperti media sosial, website, dan aplikasi e-commerce. Gunakan visual yang menggugah selera dan tawarkan diskon khusus atau penawaran bundling untuk menarik perhatian konsumen.\n",
    "   - Manfaatkan influencer atau food blogger untuk memperkenalkan produk seblak kepada audiens yang lebih luas dan meningkatkan visibilitas merek.\n",
    "\n",
    "4. **Penggunaan Teknologi dan Analisis Data:**\n",
    "   - Gunakan data analitik untuk memahami tren pembelian dan preferensi konsumen. Ini dapat membantu dalam menyesuaikan strategi pemasaran dan pengembangan produk sesuai dengan kebutuhan pasar.\n",
    "   - Implementasikan sistem umpan balik yang efektif untuk mendapatkan masukan dari pelanggan dan terus meningkatkan kualitas produk serta layanan.\n",
    "\n",
    "5. **Pengembangan Produk dan Inovasi:**\n",
    "   - Lakukan inovasi pada varian seblak untuk menawarkan sesuatu yang baru dan menarik bagi konsumen. Misalnya, varian rasa baru, tingkat kepedasan yang berbeda, atau kemasan yang lebih praktis.\n",
    "   - Pertimbangkan untuk menawarkan paket langganan atau layanan pengiriman yang memudahkan konsumen mendapatkan produk secara teratur.\n",
    "\n",
    "Dengan mengimplementasikan strategi-strategi ini, diharapkan penjualan seblak di Tokopedia dapat meningkat, sekaligus memperkuat kehadiran produk di berbagai daerah dan segmen pasar."
   ]
  }
 ],
 "metadata": {
  "kernelspec": {
   "display_name": "base",
   "language": "python",
   "name": "python3"
  },
  "language_info": {
   "codemirror_mode": {
    "name": "ipython",
    "version": 3
   },
   "file_extension": ".py",
   "mimetype": "text/x-python",
   "name": "python",
   "nbconvert_exporter": "python",
   "pygments_lexer": "ipython3",
   "version": "3.9.13"
  }
 },
 "nbformat": 4,
 "nbformat_minor": 2
}
